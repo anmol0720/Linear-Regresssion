{
  "nbformat": 4,
  "nbformat_minor": 0,
  "metadata": {
    "colab": {
      "name": "TensorFlow with GPU",
      "provenance": [],
      "collapsed_sections": [],
      "toc_visible": true,
      "include_colab_link": true
    },
    "kernelspec": {
      "display_name": "Python 3",
      "name": "python3"
    }
  },
  "cells": [
    {
      "cell_type": "markdown",
      "metadata": {
        "id": "view-in-github",
        "colab_type": "text"
      },
      "source": [
        "<a href=\"https://colab.research.google.com/github/anmol0720/Linear-Regresssion/blob/master/TensorFlow_with_GPU.ipynb\" target=\"_parent\"><img src=\"https://colab.research.google.com/assets/colab-badge.svg\" alt=\"Open In Colab\"/></a>"
      ]
    },
    {
      "cell_type": "markdown",
      "metadata": {
        "id": "VhmTmU3YyyPA",
        "colab_type": "text"
      },
      "source": [
        "# Data Importing and Preprocessing"
      ]
    },
    {
      "cell_type": "code",
      "metadata": {
        "id": "FWAa5_vevpcN",
        "colab_type": "code",
        "outputId": "370c5a2d-1c56-4d15-b356-66a7907a9bc4",
        "colab": {
          "base_uri": "https://localhost:8080/",
          "height": 72
        }
      },
      "source": [
        "import numpy as np\n",
        "import pandas as pd\n",
        "import seaborn as sns"
      ],
      "execution_count": 1,
      "outputs": [
        {
          "output_type": "stream",
          "text": [
            "/usr/local/lib/python3.6/dist-packages/statsmodels/tools/_testing.py:19: FutureWarning: pandas.util.testing is deprecated. Use the functions in the public API at pandas.testing instead.\n",
            "  import pandas.util.testing as tm\n"
          ],
          "name": "stderr"
        }
      ]
    },
    {
      "cell_type": "code",
      "metadata": {
        "id": "theJfEfcynb5",
        "colab_type": "code",
        "colab": {}
      },
      "source": [
        "df=pd.read_csv('House_Price.csv',header=0)"
      ],
      "execution_count": 0,
      "outputs": []
    },
    {
      "cell_type": "code",
      "metadata": {
        "id": "oxIg3TWrywRi",
        "colab_type": "code",
        "outputId": "560f17b5-e527-4820-ff64-849c35c927e7",
        "colab": {
          "base_uri": "https://localhost:8080/",
          "height": 215
        }
      },
      "source": [
        "df.head()"
      ],
      "execution_count": 3,
      "outputs": [
        {
          "output_type": "execute_result",
          "data": {
            "text/html": [
              "<div>\n",
              "<style scoped>\n",
              "    .dataframe tbody tr th:only-of-type {\n",
              "        vertical-align: middle;\n",
              "    }\n",
              "\n",
              "    .dataframe tbody tr th {\n",
              "        vertical-align: top;\n",
              "    }\n",
              "\n",
              "    .dataframe thead th {\n",
              "        text-align: right;\n",
              "    }\n",
              "</style>\n",
              "<table border=\"1\" class=\"dataframe\">\n",
              "  <thead>\n",
              "    <tr style=\"text-align: right;\">\n",
              "      <th></th>\n",
              "      <th>price</th>\n",
              "      <th>crime_rate</th>\n",
              "      <th>resid_area</th>\n",
              "      <th>air_qual</th>\n",
              "      <th>room_num</th>\n",
              "      <th>age</th>\n",
              "      <th>dist1</th>\n",
              "      <th>dist2</th>\n",
              "      <th>dist3</th>\n",
              "      <th>dist4</th>\n",
              "      <th>teachers</th>\n",
              "      <th>poor_prop</th>\n",
              "      <th>airport</th>\n",
              "      <th>n_hos_beds</th>\n",
              "      <th>n_hot_rooms</th>\n",
              "      <th>waterbody</th>\n",
              "      <th>rainfall</th>\n",
              "      <th>bus_ter</th>\n",
              "      <th>parks</th>\n",
              "    </tr>\n",
              "  </thead>\n",
              "  <tbody>\n",
              "    <tr>\n",
              "      <th>0</th>\n",
              "      <td>24.0</td>\n",
              "      <td>0.00632</td>\n",
              "      <td>32.31</td>\n",
              "      <td>0.538</td>\n",
              "      <td>6.575</td>\n",
              "      <td>65.2</td>\n",
              "      <td>4.35</td>\n",
              "      <td>3.81</td>\n",
              "      <td>4.18</td>\n",
              "      <td>4.01</td>\n",
              "      <td>24.7</td>\n",
              "      <td>4.98</td>\n",
              "      <td>YES</td>\n",
              "      <td>5.480</td>\n",
              "      <td>11.1920</td>\n",
              "      <td>River</td>\n",
              "      <td>23</td>\n",
              "      <td>YES</td>\n",
              "      <td>0.049347</td>\n",
              "    </tr>\n",
              "    <tr>\n",
              "      <th>1</th>\n",
              "      <td>21.6</td>\n",
              "      <td>0.02731</td>\n",
              "      <td>37.07</td>\n",
              "      <td>0.469</td>\n",
              "      <td>6.421</td>\n",
              "      <td>78.9</td>\n",
              "      <td>4.99</td>\n",
              "      <td>4.70</td>\n",
              "      <td>5.12</td>\n",
              "      <td>5.06</td>\n",
              "      <td>22.2</td>\n",
              "      <td>9.14</td>\n",
              "      <td>NO</td>\n",
              "      <td>7.332</td>\n",
              "      <td>12.1728</td>\n",
              "      <td>Lake</td>\n",
              "      <td>42</td>\n",
              "      <td>YES</td>\n",
              "      <td>0.046146</td>\n",
              "    </tr>\n",
              "    <tr>\n",
              "      <th>2</th>\n",
              "      <td>34.7</td>\n",
              "      <td>0.02729</td>\n",
              "      <td>37.07</td>\n",
              "      <td>0.469</td>\n",
              "      <td>7.185</td>\n",
              "      <td>61.1</td>\n",
              "      <td>5.03</td>\n",
              "      <td>4.86</td>\n",
              "      <td>5.01</td>\n",
              "      <td>4.97</td>\n",
              "      <td>22.2</td>\n",
              "      <td>4.03</td>\n",
              "      <td>NO</td>\n",
              "      <td>7.394</td>\n",
              "      <td>101.1200</td>\n",
              "      <td>None</td>\n",
              "      <td>38</td>\n",
              "      <td>YES</td>\n",
              "      <td>0.045764</td>\n",
              "    </tr>\n",
              "    <tr>\n",
              "      <th>3</th>\n",
              "      <td>33.4</td>\n",
              "      <td>0.03237</td>\n",
              "      <td>32.18</td>\n",
              "      <td>0.458</td>\n",
              "      <td>6.998</td>\n",
              "      <td>45.8</td>\n",
              "      <td>6.21</td>\n",
              "      <td>5.93</td>\n",
              "      <td>6.16</td>\n",
              "      <td>5.96</td>\n",
              "      <td>21.3</td>\n",
              "      <td>2.94</td>\n",
              "      <td>YES</td>\n",
              "      <td>9.268</td>\n",
              "      <td>11.2672</td>\n",
              "      <td>Lake</td>\n",
              "      <td>45</td>\n",
              "      <td>YES</td>\n",
              "      <td>0.047151</td>\n",
              "    </tr>\n",
              "    <tr>\n",
              "      <th>4</th>\n",
              "      <td>36.2</td>\n",
              "      <td>0.06905</td>\n",
              "      <td>32.18</td>\n",
              "      <td>0.458</td>\n",
              "      <td>7.147</td>\n",
              "      <td>54.2</td>\n",
              "      <td>6.16</td>\n",
              "      <td>5.86</td>\n",
              "      <td>6.37</td>\n",
              "      <td>5.86</td>\n",
              "      <td>21.3</td>\n",
              "      <td>5.33</td>\n",
              "      <td>NO</td>\n",
              "      <td>8.824</td>\n",
              "      <td>11.2896</td>\n",
              "      <td>Lake</td>\n",
              "      <td>55</td>\n",
              "      <td>YES</td>\n",
              "      <td>0.039474</td>\n",
              "    </tr>\n",
              "  </tbody>\n",
              "</table>\n",
              "</div>"
            ],
            "text/plain": [
              "   price  crime_rate  resid_area  ...  rainfall  bus_ter     parks\n",
              "0   24.0     0.00632       32.31  ...        23      YES  0.049347\n",
              "1   21.6     0.02731       37.07  ...        42      YES  0.046146\n",
              "2   34.7     0.02729       37.07  ...        38      YES  0.045764\n",
              "3   33.4     0.03237       32.18  ...        45      YES  0.047151\n",
              "4   36.2     0.06905       32.18  ...        55      YES  0.039474\n",
              "\n",
              "[5 rows x 19 columns]"
            ]
          },
          "metadata": {
            "tags": []
          },
          "execution_count": 3
        }
      ]
    },
    {
      "cell_type": "code",
      "metadata": {
        "id": "9lT1OlmozIMk",
        "colab_type": "code",
        "outputId": "c70373a7-2375-45a0-d6c2-a7b58ec796ee",
        "colab": {
          "base_uri": "https://localhost:8080/",
          "height": 34
        }
      },
      "source": [
        "df.shape"
      ],
      "execution_count": 4,
      "outputs": [
        {
          "output_type": "execute_result",
          "data": {
            "text/plain": [
              "(506, 19)"
            ]
          },
          "metadata": {
            "tags": []
          },
          "execution_count": 4
        }
      ]
    },
    {
      "cell_type": "code",
      "metadata": {
        "id": "F_AifM7s35p1",
        "colab_type": "code",
        "outputId": "1eb2f4da-f602-432f-e726-a4b3c9755330",
        "colab": {
          "base_uri": "https://localhost:8080/",
          "height": 304
        }
      },
      "source": [
        "df.describe()"
      ],
      "execution_count": 5,
      "outputs": [
        {
          "output_type": "execute_result",
          "data": {
            "text/html": [
              "<div>\n",
              "<style scoped>\n",
              "    .dataframe tbody tr th:only-of-type {\n",
              "        vertical-align: middle;\n",
              "    }\n",
              "\n",
              "    .dataframe tbody tr th {\n",
              "        vertical-align: top;\n",
              "    }\n",
              "\n",
              "    .dataframe thead th {\n",
              "        text-align: right;\n",
              "    }\n",
              "</style>\n",
              "<table border=\"1\" class=\"dataframe\">\n",
              "  <thead>\n",
              "    <tr style=\"text-align: right;\">\n",
              "      <th></th>\n",
              "      <th>price</th>\n",
              "      <th>crime_rate</th>\n",
              "      <th>resid_area</th>\n",
              "      <th>air_qual</th>\n",
              "      <th>room_num</th>\n",
              "      <th>age</th>\n",
              "      <th>dist1</th>\n",
              "      <th>dist2</th>\n",
              "      <th>dist3</th>\n",
              "      <th>dist4</th>\n",
              "      <th>teachers</th>\n",
              "      <th>poor_prop</th>\n",
              "      <th>n_hos_beds</th>\n",
              "      <th>n_hot_rooms</th>\n",
              "      <th>rainfall</th>\n",
              "      <th>parks</th>\n",
              "    </tr>\n",
              "  </thead>\n",
              "  <tbody>\n",
              "    <tr>\n",
              "      <th>count</th>\n",
              "      <td>506.000000</td>\n",
              "      <td>506.000000</td>\n",
              "      <td>506.000000</td>\n",
              "      <td>506.000000</td>\n",
              "      <td>506.000000</td>\n",
              "      <td>506.000000</td>\n",
              "      <td>506.000000</td>\n",
              "      <td>506.000000</td>\n",
              "      <td>506.000000</td>\n",
              "      <td>506.000000</td>\n",
              "      <td>506.000000</td>\n",
              "      <td>506.000000</td>\n",
              "      <td>498.000000</td>\n",
              "      <td>506.000000</td>\n",
              "      <td>506.000000</td>\n",
              "      <td>506.000000</td>\n",
              "    </tr>\n",
              "    <tr>\n",
              "      <th>mean</th>\n",
              "      <td>22.528854</td>\n",
              "      <td>3.613524</td>\n",
              "      <td>41.136779</td>\n",
              "      <td>0.554695</td>\n",
              "      <td>6.284634</td>\n",
              "      <td>68.574901</td>\n",
              "      <td>3.971996</td>\n",
              "      <td>3.628775</td>\n",
              "      <td>3.960672</td>\n",
              "      <td>3.618972</td>\n",
              "      <td>21.544466</td>\n",
              "      <td>12.653063</td>\n",
              "      <td>7.899767</td>\n",
              "      <td>13.041605</td>\n",
              "      <td>39.181818</td>\n",
              "      <td>0.054454</td>\n",
              "    </tr>\n",
              "    <tr>\n",
              "      <th>std</th>\n",
              "      <td>9.182176</td>\n",
              "      <td>8.601545</td>\n",
              "      <td>6.860353</td>\n",
              "      <td>0.115878</td>\n",
              "      <td>0.702617</td>\n",
              "      <td>28.148861</td>\n",
              "      <td>2.108532</td>\n",
              "      <td>2.108580</td>\n",
              "      <td>2.119797</td>\n",
              "      <td>2.099203</td>\n",
              "      <td>2.164946</td>\n",
              "      <td>7.141062</td>\n",
              "      <td>1.476683</td>\n",
              "      <td>5.238957</td>\n",
              "      <td>12.513697</td>\n",
              "      <td>0.010632</td>\n",
              "    </tr>\n",
              "    <tr>\n",
              "      <th>min</th>\n",
              "      <td>5.000000</td>\n",
              "      <td>0.006320</td>\n",
              "      <td>30.460000</td>\n",
              "      <td>0.385000</td>\n",
              "      <td>3.561000</td>\n",
              "      <td>2.900000</td>\n",
              "      <td>1.130000</td>\n",
              "      <td>0.920000</td>\n",
              "      <td>1.150000</td>\n",
              "      <td>0.730000</td>\n",
              "      <td>18.000000</td>\n",
              "      <td>1.730000</td>\n",
              "      <td>5.268000</td>\n",
              "      <td>10.057600</td>\n",
              "      <td>3.000000</td>\n",
              "      <td>0.033292</td>\n",
              "    </tr>\n",
              "    <tr>\n",
              "      <th>25%</th>\n",
              "      <td>17.025000</td>\n",
              "      <td>0.082045</td>\n",
              "      <td>35.190000</td>\n",
              "      <td>0.449000</td>\n",
              "      <td>5.885500</td>\n",
              "      <td>45.025000</td>\n",
              "      <td>2.270000</td>\n",
              "      <td>1.940000</td>\n",
              "      <td>2.232500</td>\n",
              "      <td>1.940000</td>\n",
              "      <td>19.800000</td>\n",
              "      <td>6.950000</td>\n",
              "      <td>6.634500</td>\n",
              "      <td>11.189800</td>\n",
              "      <td>28.000000</td>\n",
              "      <td>0.046464</td>\n",
              "    </tr>\n",
              "    <tr>\n",
              "      <th>50%</th>\n",
              "      <td>21.200000</td>\n",
              "      <td>0.256510</td>\n",
              "      <td>39.690000</td>\n",
              "      <td>0.538000</td>\n",
              "      <td>6.208500</td>\n",
              "      <td>77.500000</td>\n",
              "      <td>3.385000</td>\n",
              "      <td>3.010000</td>\n",
              "      <td>3.375000</td>\n",
              "      <td>3.070000</td>\n",
              "      <td>20.950000</td>\n",
              "      <td>11.360000</td>\n",
              "      <td>7.999000</td>\n",
              "      <td>12.720000</td>\n",
              "      <td>39.000000</td>\n",
              "      <td>0.053507</td>\n",
              "    </tr>\n",
              "    <tr>\n",
              "      <th>75%</th>\n",
              "      <td>25.000000</td>\n",
              "      <td>3.677082</td>\n",
              "      <td>48.100000</td>\n",
              "      <td>0.624000</td>\n",
              "      <td>6.623500</td>\n",
              "      <td>94.075000</td>\n",
              "      <td>5.367500</td>\n",
              "      <td>4.992500</td>\n",
              "      <td>5.407500</td>\n",
              "      <td>4.985000</td>\n",
              "      <td>22.600000</td>\n",
              "      <td>16.955000</td>\n",
              "      <td>9.088000</td>\n",
              "      <td>14.170800</td>\n",
              "      <td>50.000000</td>\n",
              "      <td>0.061397</td>\n",
              "    </tr>\n",
              "    <tr>\n",
              "      <th>max</th>\n",
              "      <td>50.000000</td>\n",
              "      <td>88.976200</td>\n",
              "      <td>57.740000</td>\n",
              "      <td>0.871000</td>\n",
              "      <td>8.780000</td>\n",
              "      <td>100.000000</td>\n",
              "      <td>12.320000</td>\n",
              "      <td>11.930000</td>\n",
              "      <td>12.320000</td>\n",
              "      <td>11.940000</td>\n",
              "      <td>27.400000</td>\n",
              "      <td>37.970000</td>\n",
              "      <td>10.876000</td>\n",
              "      <td>101.120000</td>\n",
              "      <td>60.000000</td>\n",
              "      <td>0.086711</td>\n",
              "    </tr>\n",
              "  </tbody>\n",
              "</table>\n",
              "</div>"
            ],
            "text/plain": [
              "            price  crime_rate  resid_area  ...  n_hot_rooms    rainfall       parks\n",
              "count  506.000000  506.000000  506.000000  ...   506.000000  506.000000  506.000000\n",
              "mean    22.528854    3.613524   41.136779  ...    13.041605   39.181818    0.054454\n",
              "std      9.182176    8.601545    6.860353  ...     5.238957   12.513697    0.010632\n",
              "min      5.000000    0.006320   30.460000  ...    10.057600    3.000000    0.033292\n",
              "25%     17.025000    0.082045   35.190000  ...    11.189800   28.000000    0.046464\n",
              "50%     21.200000    0.256510   39.690000  ...    12.720000   39.000000    0.053507\n",
              "75%     25.000000    3.677082   48.100000  ...    14.170800   50.000000    0.061397\n",
              "max     50.000000   88.976200   57.740000  ...   101.120000   60.000000    0.086711\n",
              "\n",
              "[8 rows x 16 columns]"
            ]
          },
          "metadata": {
            "tags": []
          },
          "execution_count": 5
        }
      ]
    },
    {
      "cell_type": "code",
      "metadata": {
        "id": "AuuY7QPY378N",
        "colab_type": "code",
        "outputId": "43f36afa-d4c5-4a24-ae7d-c3da817bc91c",
        "colab": {
          "base_uri": "https://localhost:8080/",
          "height": 458
        }
      },
      "source": [
        "sns.jointplot(x='n_hot_rooms',y='price',data=df)"
      ],
      "execution_count": 6,
      "outputs": [
        {
          "output_type": "execute_result",
          "data": {
            "text/plain": [
              "<seaborn.axisgrid.JointGrid at 0x7f99cd2c9f28>"
            ]
          },
          "metadata": {
            "tags": []
          },
          "execution_count": 6
        },
        {
          "output_type": "display_data",
          "data": {
            "image/png": "[encoded data removed]",
            "text/plain": [
              "<Figure size 432x432 with 3 Axes>"
            ]
          },
          "metadata": {
            "tags": [],
            "needs_background": "light"
          }
        }
      ]
    },
    {
      "cell_type": "code",
      "metadata": {
        "id": "cHWsWtS64FZY",
        "colab_type": "code",
        "outputId": "3a63ba4b-404b-4259-cbad-7202c92c7bb3",
        "colab": {
          "base_uri": "https://localhost:8080/",
          "height": 458
        }
      },
      "source": [
        "sns.jointplot(x='rainfall',y='price',data=df)"
      ],
      "execution_count": 7,
      "outputs": [
        {
          "output_type": "execute_result",
          "data": {
            "text/plain": [
              "<seaborn.axisgrid.JointGrid at 0x7f99ca8816a0>"
            ]
          },
          "metadata": {
            "tags": []
          },
          "execution_count": 7
        },
        {
          "output_type": "display_data",
          "data": {
            "image/png": "[encoded data removed]",
            "text/plain": [
              "<Figure size 432x432 with 3 Axes>"
            ]
          },
          "metadata": {
            "tags": [],
            "needs_background": "light"
          }
        }
      ]
    },
    {
      "cell_type": "code",
      "metadata": {
        "id": "nY5A1DDz4VaA",
        "colab_type": "code",
        "outputId": "98cfee6a-318a-4d00-f345-acff56ed2271",
        "colab": {
          "base_uri": "https://localhost:8080/",
          "height": 215
        }
      },
      "source": [
        "df.head()"
      ],
      "execution_count": 8,
      "outputs": [
        {
          "output_type": "execute_result",
          "data": {
            "text/html": [
              "<div>\n",
              "<style scoped>\n",
              "    .dataframe tbody tr th:only-of-type {\n",
              "        vertical-align: middle;\n",
              "    }\n",
              "\n",
              "    .dataframe tbody tr th {\n",
              "        vertical-align: top;\n",
              "    }\n",
              "\n",
              "    .dataframe thead th {\n",
              "        text-align: right;\n",
              "    }\n",
              "</style>\n",
              "<table border=\"1\" class=\"dataframe\">\n",
              "  <thead>\n",
              "    <tr style=\"text-align: right;\">\n",
              "      <th></th>\n",
              "      <th>price</th>\n",
              "      <th>crime_rate</th>\n",
              "      <th>resid_area</th>\n",
              "      <th>air_qual</th>\n",
              "      <th>room_num</th>\n",
              "      <th>age</th>\n",
              "      <th>dist1</th>\n",
              "      <th>dist2</th>\n",
              "      <th>dist3</th>\n",
              "      <th>dist4</th>\n",
              "      <th>teachers</th>\n",
              "      <th>poor_prop</th>\n",
              "      <th>airport</th>\n",
              "      <th>n_hos_beds</th>\n",
              "      <th>n_hot_rooms</th>\n",
              "      <th>waterbody</th>\n",
              "      <th>rainfall</th>\n",
              "      <th>bus_ter</th>\n",
              "      <th>parks</th>\n",
              "    </tr>\n",
              "  </thead>\n",
              "  <tbody>\n",
              "    <tr>\n",
              "      <th>0</th>\n",
              "      <td>24.0</td>\n",
              "      <td>0.00632</td>\n",
              "      <td>32.31</td>\n",
              "      <td>0.538</td>\n",
              "      <td>6.575</td>\n",
              "      <td>65.2</td>\n",
              "      <td>4.35</td>\n",
              "      <td>3.81</td>\n",
              "      <td>4.18</td>\n",
              "      <td>4.01</td>\n",
              "      <td>24.7</td>\n",
              "      <td>4.98</td>\n",
              "      <td>YES</td>\n",
              "      <td>5.480</td>\n",
              "      <td>11.1920</td>\n",
              "      <td>River</td>\n",
              "      <td>23</td>\n",
              "      <td>YES</td>\n",
              "      <td>0.049347</td>\n",
              "    </tr>\n",
              "    <tr>\n",
              "      <th>1</th>\n",
              "      <td>21.6</td>\n",
              "      <td>0.02731</td>\n",
              "      <td>37.07</td>\n",
              "      <td>0.469</td>\n",
              "      <td>6.421</td>\n",
              "      <td>78.9</td>\n",
              "      <td>4.99</td>\n",
              "      <td>4.70</td>\n",
              "      <td>5.12</td>\n",
              "      <td>5.06</td>\n",
              "      <td>22.2</td>\n",
              "      <td>9.14</td>\n",
              "      <td>NO</td>\n",
              "      <td>7.332</td>\n",
              "      <td>12.1728</td>\n",
              "      <td>Lake</td>\n",
              "      <td>42</td>\n",
              "      <td>YES</td>\n",
              "      <td>0.046146</td>\n",
              "    </tr>\n",
              "    <tr>\n",
              "      <th>2</th>\n",
              "      <td>34.7</td>\n",
              "      <td>0.02729</td>\n",
              "      <td>37.07</td>\n",
              "      <td>0.469</td>\n",
              "      <td>7.185</td>\n",
              "      <td>61.1</td>\n",
              "      <td>5.03</td>\n",
              "      <td>4.86</td>\n",
              "      <td>5.01</td>\n",
              "      <td>4.97</td>\n",
              "      <td>22.2</td>\n",
              "      <td>4.03</td>\n",
              "      <td>NO</td>\n",
              "      <td>7.394</td>\n",
              "      <td>101.1200</td>\n",
              "      <td>None</td>\n",
              "      <td>38</td>\n",
              "      <td>YES</td>\n",
              "      <td>0.045764</td>\n",
              "    </tr>\n",
              "    <tr>\n",
              "      <th>3</th>\n",
              "      <td>33.4</td>\n",
              "      <td>0.03237</td>\n",
              "      <td>32.18</td>\n",
              "      <td>0.458</td>\n",
              "      <td>6.998</td>\n",
              "      <td>45.8</td>\n",
              "      <td>6.21</td>\n",
              "      <td>5.93</td>\n",
              "      <td>6.16</td>\n",
              "      <td>5.96</td>\n",
              "      <td>21.3</td>\n",
              "      <td>2.94</td>\n",
              "      <td>YES</td>\n",
              "      <td>9.268</td>\n",
              "      <td>11.2672</td>\n",
              "      <td>Lake</td>\n",
              "      <td>45</td>\n",
              "      <td>YES</td>\n",
              "      <td>0.047151</td>\n",
              "    </tr>\n",
              "    <tr>\n",
              "      <th>4</th>\n",
              "      <td>36.2</td>\n",
              "      <td>0.06905</td>\n",
              "      <td>32.18</td>\n",
              "      <td>0.458</td>\n",
              "      <td>7.147</td>\n",
              "      <td>54.2</td>\n",
              "      <td>6.16</td>\n",
              "      <td>5.86</td>\n",
              "      <td>6.37</td>\n",
              "      <td>5.86</td>\n",
              "      <td>21.3</td>\n",
              "      <td>5.33</td>\n",
              "      <td>NO</td>\n",
              "      <td>8.824</td>\n",
              "      <td>11.2896</td>\n",
              "      <td>Lake</td>\n",
              "      <td>55</td>\n",
              "      <td>YES</td>\n",
              "      <td>0.039474</td>\n",
              "    </tr>\n",
              "  </tbody>\n",
              "</table>\n",
              "</div>"
            ],
            "text/plain": [
              "   price  crime_rate  resid_area  ...  rainfall  bus_ter     parks\n",
              "0   24.0     0.00632       32.31  ...        23      YES  0.049347\n",
              "1   21.6     0.02731       37.07  ...        42      YES  0.046146\n",
              "2   34.7     0.02729       37.07  ...        38      YES  0.045764\n",
              "3   33.4     0.03237       32.18  ...        45      YES  0.047151\n",
              "4   36.2     0.06905       32.18  ...        55      YES  0.039474\n",
              "\n",
              "[5 rows x 19 columns]"
            ]
          },
          "metadata": {
            "tags": []
          },
          "execution_count": 8
        }
      ]
    },
    {
      "cell_type": "code",
      "metadata": {
        "id": "nXnazR1D4ZkC",
        "colab_type": "code",
        "outputId": "123e975b-200e-4a0c-8a0d-c5d00b0bc417",
        "colab": {
          "base_uri": "https://localhost:8080/",
          "height": 297
        }
      },
      "source": [
        "sns.countplot(x='airport',data=df)"
      ],
      "execution_count": 9,
      "outputs": [
        {
          "output_type": "execute_result",
          "data": {
            "text/plain": [
              "<matplotlib.axes._subplots.AxesSubplot at 0x7f99ca2a4b00>"
            ]
          },
          "metadata": {
            "tags": []
          },
          "execution_count": 9
        },
        {
          "output_type": "display_data",
          "data": {
            "image/png": "[encoded data removed]",
            "text/plain": [
              "<Figure size 432x288 with 1 Axes>"
            ]
          },
          "metadata": {
            "tags": [],
            "needs_background": "light"
          }
        }
      ]
    },
    {
      "cell_type": "code",
      "metadata": {
        "id": "Xfwyyd6k4gFK",
        "colab_type": "code",
        "outputId": "a2849263-0f2d-4440-db28-f971c732ca16",
        "colab": {
          "base_uri": "https://localhost:8080/",
          "height": 297
        }
      },
      "source": [
        "sns.countplot(x='waterbody',data=df)"
      ],
      "execution_count": 10,
      "outputs": [
        {
          "output_type": "execute_result",
          "data": {
            "text/plain": [
              "<matplotlib.axes._subplots.AxesSubplot at 0x7f99ca379978>"
            ]
          },
          "metadata": {
            "tags": []
          },
          "execution_count": 10
        },
        {
          "output_type": "display_data",
          "data": {
            "image/png": "[encoded data removed]",
            "text/plain": [
              "<Figure size 432x288 with 1 Axes>"
            ]
          },
          "metadata": {
            "tags": [],
            "needs_background": "light"
          }
        }
      ]
    },
    {
      "cell_type": "code",
      "metadata": {
        "id": "gohj1VT64lxk",
        "colab_type": "code",
        "outputId": "a26fe3e0-ee08-477a-954e-c27e4a897fe2",
        "colab": {
          "base_uri": "https://localhost:8080/",
          "height": 298
        }
      },
      "source": [
        "sns.countplot(x='bus_ter',data=df)"
      ],
      "execution_count": 11,
      "outputs": [
        {
          "output_type": "execute_result",
          "data": {
            "text/plain": [
              "<matplotlib.axes._subplots.AxesSubplot at 0x7f99ca2cc5c0>"
            ]
          },
          "metadata": {
            "tags": []
          },
          "execution_count": 11
        },
        {
          "output_type": "display_data",
          "data": {
            "image/png": "[encoded data removed]",
            "text/plain": [
              "<Figure size 432x288 with 1 Axes>"
            ]
          },
          "metadata": {
            "tags": [],
            "needs_background": "light"
          }
        }
      ]
    },
    {
      "cell_type": "markdown",
      "metadata": {
        "id": "6VwRp-t7_Rz_",
        "colab_type": "text"
      },
      "source": [
        "**Outlier Treatment**"
      ]
    },
    {
      "cell_type": "code",
      "metadata": {
        "id": "8i4O6pMs_QeR",
        "colab_type": "code",
        "outputId": "77de38c1-f908-4cba-8abe-15ffdfa0d9ce",
        "colab": {
          "base_uri": "https://localhost:8080/",
          "height": 474
        }
      },
      "source": [
        "df.info()"
      ],
      "execution_count": 12,
      "outputs": [
        {
          "output_type": "stream",
          "text": [
            "<class 'pandas.core.frame.DataFrame'>\n",
            "RangeIndex: 506 entries, 0 to 505\n",
            "Data columns (total 19 columns):\n",
            " #   Column       Non-Null Count  Dtype  \n",
            "---  ------       --------------  -----  \n",
            " 0   price        506 non-null    float64\n",
            " 1   crime_rate   506 non-null    float64\n",
            " 2   resid_area   506 non-null    float64\n",
            " 3   air_qual     506 non-null    float64\n",
            " 4   room_num     506 non-null    float64\n",
            " 5   age          506 non-null    float64\n",
            " 6   dist1        506 non-null    float64\n",
            " 7   dist2        506 non-null    float64\n",
            " 8   dist3        506 non-null    float64\n",
            " 9   dist4        506 non-null    float64\n",
            " 10  teachers     506 non-null    float64\n",
            " 11  poor_prop    506 non-null    float64\n",
            " 12  airport      506 non-null    object \n",
            " 13  n_hos_beds   498 non-null    float64\n",
            " 14  n_hot_rooms  506 non-null    float64\n",
            " 15  waterbody    506 non-null    object \n",
            " 16  rainfall     506 non-null    int64  \n",
            " 17  bus_ter      506 non-null    object \n",
            " 18  parks        506 non-null    float64\n",
            "dtypes: float64(15), int64(1), object(3)\n",
            "memory usage: 75.2+ KB\n"
          ],
          "name": "stdout"
        }
      ]
    },
    {
      "cell_type": "code",
      "metadata": {
        "id": "ZCPAetlB_a5o",
        "colab_type": "code",
        "outputId": "e3165be3-39e0-419d-9a46-aad9ccfd93f3",
        "colab": {
          "base_uri": "https://localhost:8080/",
          "height": 34
        }
      },
      "source": [
        "#n_hot_rooms and rainfall contain outliers\n",
        "#99 percentile\n",
        "np.percentile(df.n_hot_rooms,[99])"
      ],
      "execution_count": 13,
      "outputs": [
        {
          "output_type": "execute_result",
          "data": {
            "text/plain": [
              "array([15.39952])"
            ]
          },
          "metadata": {
            "tags": []
          },
          "execution_count": 13
        }
      ]
    },
    {
      "cell_type": "code",
      "metadata": {
        "id": "4FZp1bUp_3Sq",
        "colab_type": "code",
        "outputId": "e557c8b9-8a29-459f-e086-d2f7fee5395c",
        "colab": {
          "base_uri": "https://localhost:8080/",
          "height": 34
        }
      },
      "source": [
        "np.percentile(df.n_hot_rooms,[99])[0]"
      ],
      "execution_count": 14,
      "outputs": [
        {
          "output_type": "execute_result",
          "data": {
            "text/plain": [
              "15.399519999999999"
            ]
          },
          "metadata": {
            "tags": []
          },
          "execution_count": 14
        }
      ]
    },
    {
      "cell_type": "code",
      "metadata": {
        "id": "pY9SZjw7ABYd",
        "colab_type": "code",
        "colab": {}
      },
      "source": [
        "ub=np.percentile(df.n_hot_rooms,[99])[0]"
      ],
      "execution_count": 0,
      "outputs": []
    },
    {
      "cell_type": "code",
      "metadata": {
        "id": "HIe-UrtVAGbu",
        "colab_type": "code",
        "outputId": "5f454d2f-0f45-4518-cadb-c24a0101fed0",
        "colab": {
          "base_uri": "https://localhost:8080/",
          "height": 245
        }
      },
      "source": [
        "df[(df.n_hot_rooms>ub)]"
      ],
      "execution_count": 16,
      "outputs": [
        {
          "output_type": "execute_result",
          "data": {
            "text/html": [
              "<div>\n",
              "<style scoped>\n",
              "    .dataframe tbody tr th:only-of-type {\n",
              "        vertical-align: middle;\n",
              "    }\n",
              "\n",
              "    .dataframe tbody tr th {\n",
              "        vertical-align: top;\n",
              "    }\n",
              "\n",
              "    .dataframe thead th {\n",
              "        text-align: right;\n",
              "    }\n",
              "</style>\n",
              "<table border=\"1\" class=\"dataframe\">\n",
              "  <thead>\n",
              "    <tr style=\"text-align: right;\">\n",
              "      <th></th>\n",
              "      <th>price</th>\n",
              "      <th>crime_rate</th>\n",
              "      <th>resid_area</th>\n",
              "      <th>air_qual</th>\n",
              "      <th>room_num</th>\n",
              "      <th>age</th>\n",
              "      <th>dist1</th>\n",
              "      <th>dist2</th>\n",
              "      <th>dist3</th>\n",
              "      <th>dist4</th>\n",
              "      <th>teachers</th>\n",
              "      <th>poor_prop</th>\n",
              "      <th>airport</th>\n",
              "      <th>n_hos_beds</th>\n",
              "      <th>n_hot_rooms</th>\n",
              "      <th>waterbody</th>\n",
              "      <th>rainfall</th>\n",
              "      <th>bus_ter</th>\n",
              "      <th>parks</th>\n",
              "    </tr>\n",
              "  </thead>\n",
              "  <tbody>\n",
              "    <tr>\n",
              "      <th>2</th>\n",
              "      <td>34.7</td>\n",
              "      <td>0.02729</td>\n",
              "      <td>37.07</td>\n",
              "      <td>0.4690</td>\n",
              "      <td>7.185</td>\n",
              "      <td>61.1</td>\n",
              "      <td>5.03</td>\n",
              "      <td>4.86</td>\n",
              "      <td>5.01</td>\n",
              "      <td>4.97</td>\n",
              "      <td>22.2</td>\n",
              "      <td>4.03</td>\n",
              "      <td>NO</td>\n",
              "      <td>7.394</td>\n",
              "      <td>101.12</td>\n",
              "      <td>None</td>\n",
              "      <td>38</td>\n",
              "      <td>YES</td>\n",
              "      <td>0.045764</td>\n",
              "    </tr>\n",
              "    <tr>\n",
              "      <th>166</th>\n",
              "      <td>50.0</td>\n",
              "      <td>2.01019</td>\n",
              "      <td>49.58</td>\n",
              "      <td>0.6050</td>\n",
              "      <td>7.929</td>\n",
              "      <td>96.2</td>\n",
              "      <td>2.11</td>\n",
              "      <td>1.91</td>\n",
              "      <td>2.31</td>\n",
              "      <td>1.86</td>\n",
              "      <td>25.3</td>\n",
              "      <td>3.70</td>\n",
              "      <td>YES</td>\n",
              "      <td>8.300</td>\n",
              "      <td>15.40</td>\n",
              "      <td>River</td>\n",
              "      <td>37</td>\n",
              "      <td>YES</td>\n",
              "      <td>0.052105</td>\n",
              "    </tr>\n",
              "    <tr>\n",
              "      <th>204</th>\n",
              "      <td>50.0</td>\n",
              "      <td>0.02009</td>\n",
              "      <td>32.68</td>\n",
              "      <td>0.4161</td>\n",
              "      <td>8.034</td>\n",
              "      <td>31.9</td>\n",
              "      <td>5.41</td>\n",
              "      <td>4.80</td>\n",
              "      <td>5.28</td>\n",
              "      <td>4.99</td>\n",
              "      <td>25.3</td>\n",
              "      <td>2.88</td>\n",
              "      <td>YES</td>\n",
              "      <td>8.900</td>\n",
              "      <td>15.40</td>\n",
              "      <td>River</td>\n",
              "      <td>51</td>\n",
              "      <td>YES</td>\n",
              "      <td>0.044178</td>\n",
              "    </tr>\n",
              "    <tr>\n",
              "      <th>267</th>\n",
              "      <td>50.0</td>\n",
              "      <td>0.57834</td>\n",
              "      <td>33.97</td>\n",
              "      <td>0.5750</td>\n",
              "      <td>8.297</td>\n",
              "      <td>67.0</td>\n",
              "      <td>2.60</td>\n",
              "      <td>2.13</td>\n",
              "      <td>2.43</td>\n",
              "      <td>2.52</td>\n",
              "      <td>27.0</td>\n",
              "      <td>7.44</td>\n",
              "      <td>YES</td>\n",
              "      <td>8.000</td>\n",
              "      <td>15.40</td>\n",
              "      <td>None</td>\n",
              "      <td>42</td>\n",
              "      <td>YES</td>\n",
              "      <td>0.063235</td>\n",
              "    </tr>\n",
              "    <tr>\n",
              "      <th>369</th>\n",
              "      <td>50.0</td>\n",
              "      <td>5.66998</td>\n",
              "      <td>48.10</td>\n",
              "      <td>0.6310</td>\n",
              "      <td>6.683</td>\n",
              "      <td>96.8</td>\n",
              "      <td>1.55</td>\n",
              "      <td>1.28</td>\n",
              "      <td>1.65</td>\n",
              "      <td>0.94</td>\n",
              "      <td>19.8</td>\n",
              "      <td>3.73</td>\n",
              "      <td>YES</td>\n",
              "      <td>6.700</td>\n",
              "      <td>15.40</td>\n",
              "      <td>River</td>\n",
              "      <td>58</td>\n",
              "      <td>YES</td>\n",
              "      <td>0.067477</td>\n",
              "    </tr>\n",
              "    <tr>\n",
              "      <th>423</th>\n",
              "      <td>13.4</td>\n",
              "      <td>7.05042</td>\n",
              "      <td>48.10</td>\n",
              "      <td>0.6140</td>\n",
              "      <td>6.103</td>\n",
              "      <td>85.1</td>\n",
              "      <td>2.08</td>\n",
              "      <td>1.80</td>\n",
              "      <td>2.34</td>\n",
              "      <td>1.87</td>\n",
              "      <td>19.8</td>\n",
              "      <td>23.29</td>\n",
              "      <td>NO</td>\n",
              "      <td>8.268</td>\n",
              "      <td>81.12</td>\n",
              "      <td>Lake</td>\n",
              "      <td>29</td>\n",
              "      <td>YES</td>\n",
              "      <td>0.063344</td>\n",
              "    </tr>\n",
              "  </tbody>\n",
              "</table>\n",
              "</div>"
            ],
            "text/plain": [
              "     price  crime_rate  resid_area  ...  rainfall  bus_ter     parks\n",
              "2     34.7     0.02729       37.07  ...        38      YES  0.045764\n",
              "166   50.0     2.01019       49.58  ...        37      YES  0.052105\n",
              "204   50.0     0.02009       32.68  ...        51      YES  0.044178\n",
              "267   50.0     0.57834       33.97  ...        42      YES  0.063235\n",
              "369   50.0     5.66998       48.10  ...        58      YES  0.067477\n",
              "423   13.4     7.05042       48.10  ...        29      YES  0.063344\n",
              "\n",
              "[6 rows x 19 columns]"
            ]
          },
          "metadata": {
            "tags": []
          },
          "execution_count": 16
        }
      ]
    },
    {
      "cell_type": "markdown",
      "metadata": {
        "id": "ltAyHv81Bn67",
        "colab_type": "text"
      },
      "source": [
        "Multiply 3 for upper limit \n",
        "and\n",
        "0.3 for lower limit"
      ]
    },
    {
      "cell_type": "markdown",
      "metadata": {
        "id": "EAXkOGhaA8zo",
        "colab_type": "text"
      },
      "source": [
        "*Limiting the values*"
      ]
    },
    {
      "cell_type": "code",
      "metadata": {
        "id": "krxPAAHTAQ7p",
        "colab_type": "code",
        "outputId": "57c9c932-a5d0-4960-e8c7-c6c03edee0fb",
        "colab": {
          "base_uri": "https://localhost:8080/",
          "height": 105
        }
      },
      "source": [
        "df.n_hot_rooms[(df.n_hot_rooms>3*ub)]=3*ub"
      ],
      "execution_count": 17,
      "outputs": [
        {
          "output_type": "stream",
          "text": [
            "/usr/local/lib/python3.6/dist-packages/ipykernel_launcher.py:1: SettingWithCopyWarning: \n",
            "A value is trying to be set on a copy of a slice from a DataFrame\n",
            "\n",
            "See the caveats in the documentation: https://pandas.pydata.org/pandas-docs/stable/user_guide/indexing.html#returning-a-view-versus-a-copy\n",
            "  \"\"\"Entry point for launching an IPython kernel.\n"
          ],
          "name": "stderr"
        }
      ]
    },
    {
      "cell_type": "code",
      "metadata": {
        "id": "OcfT5su4Aw-I",
        "colab_type": "code",
        "outputId": "f4dc1cec-7e22-4f77-dd93-41398e8e94d1",
        "colab": {
          "base_uri": "https://localhost:8080/",
          "height": 245
        }
      },
      "source": [
        "df[(df.n_hot_rooms>ub)]"
      ],
      "execution_count": 18,
      "outputs": [
        {
          "output_type": "execute_result",
          "data": {
            "text/html": [
              "<div>\n",
              "<style scoped>\n",
              "    .dataframe tbody tr th:only-of-type {\n",
              "        vertical-align: middle;\n",
              "    }\n",
              "\n",
              "    .dataframe tbody tr th {\n",
              "        vertical-align: top;\n",
              "    }\n",
              "\n",
              "    .dataframe thead th {\n",
              "        text-align: right;\n",
              "    }\n",
              "</style>\n",
              "<table border=\"1\" class=\"dataframe\">\n",
              "  <thead>\n",
              "    <tr style=\"text-align: right;\">\n",
              "      <th></th>\n",
              "      <th>price</th>\n",
              "      <th>crime_rate</th>\n",
              "      <th>resid_area</th>\n",
              "      <th>air_qual</th>\n",
              "      <th>room_num</th>\n",
              "      <th>age</th>\n",
              "      <th>dist1</th>\n",
              "      <th>dist2</th>\n",
              "      <th>dist3</th>\n",
              "      <th>dist4</th>\n",
              "      <th>teachers</th>\n",
              "      <th>poor_prop</th>\n",
              "      <th>airport</th>\n",
              "      <th>n_hos_beds</th>\n",
              "      <th>n_hot_rooms</th>\n",
              "      <th>waterbody</th>\n",
              "      <th>rainfall</th>\n",
              "      <th>bus_ter</th>\n",
              "      <th>parks</th>\n",
              "    </tr>\n",
              "  </thead>\n",
              "  <tbody>\n",
              "    <tr>\n",
              "      <th>2</th>\n",
              "      <td>34.7</td>\n",
              "      <td>0.02729</td>\n",
              "      <td>37.07</td>\n",
              "      <td>0.4690</td>\n",
              "      <td>7.185</td>\n",
              "      <td>61.1</td>\n",
              "      <td>5.03</td>\n",
              "      <td>4.86</td>\n",
              "      <td>5.01</td>\n",
              "      <td>4.97</td>\n",
              "      <td>22.2</td>\n",
              "      <td>4.03</td>\n",
              "      <td>NO</td>\n",
              "      <td>7.394</td>\n",
              "      <td>46.19856</td>\n",
              "      <td>None</td>\n",
              "      <td>38</td>\n",
              "      <td>YES</td>\n",
              "      <td>0.045764</td>\n",
              "    </tr>\n",
              "    <tr>\n",
              "      <th>166</th>\n",
              "      <td>50.0</td>\n",
              "      <td>2.01019</td>\n",
              "      <td>49.58</td>\n",
              "      <td>0.6050</td>\n",
              "      <td>7.929</td>\n",
              "      <td>96.2</td>\n",
              "      <td>2.11</td>\n",
              "      <td>1.91</td>\n",
              "      <td>2.31</td>\n",
              "      <td>1.86</td>\n",
              "      <td>25.3</td>\n",
              "      <td>3.70</td>\n",
              "      <td>YES</td>\n",
              "      <td>8.300</td>\n",
              "      <td>15.40000</td>\n",
              "      <td>River</td>\n",
              "      <td>37</td>\n",
              "      <td>YES</td>\n",
              "      <td>0.052105</td>\n",
              "    </tr>\n",
              "    <tr>\n",
              "      <th>204</th>\n",
              "      <td>50.0</td>\n",
              "      <td>0.02009</td>\n",
              "      <td>32.68</td>\n",
              "      <td>0.4161</td>\n",
              "      <td>8.034</td>\n",
              "      <td>31.9</td>\n",
              "      <td>5.41</td>\n",
              "      <td>4.80</td>\n",
              "      <td>5.28</td>\n",
              "      <td>4.99</td>\n",
              "      <td>25.3</td>\n",
              "      <td>2.88</td>\n",
              "      <td>YES</td>\n",
              "      <td>8.900</td>\n",
              "      <td>15.40000</td>\n",
              "      <td>River</td>\n",
              "      <td>51</td>\n",
              "      <td>YES</td>\n",
              "      <td>0.044178</td>\n",
              "    </tr>\n",
              "    <tr>\n",
              "      <th>267</th>\n",
              "      <td>50.0</td>\n",
              "      <td>0.57834</td>\n",
              "      <td>33.97</td>\n",
              "      <td>0.5750</td>\n",
              "      <td>8.297</td>\n",
              "      <td>67.0</td>\n",
              "      <td>2.60</td>\n",
              "      <td>2.13</td>\n",
              "      <td>2.43</td>\n",
              "      <td>2.52</td>\n",
              "      <td>27.0</td>\n",
              "      <td>7.44</td>\n",
              "      <td>YES</td>\n",
              "      <td>8.000</td>\n",
              "      <td>15.40000</td>\n",
              "      <td>None</td>\n",
              "      <td>42</td>\n",
              "      <td>YES</td>\n",
              "      <td>0.063235</td>\n",
              "    </tr>\n",
              "    <tr>\n",
              "      <th>369</th>\n",
              "      <td>50.0</td>\n",
              "      <td>5.66998</td>\n",
              "      <td>48.10</td>\n",
              "      <td>0.6310</td>\n",
              "      <td>6.683</td>\n",
              "      <td>96.8</td>\n",
              "      <td>1.55</td>\n",
              "      <td>1.28</td>\n",
              "      <td>1.65</td>\n",
              "      <td>0.94</td>\n",
              "      <td>19.8</td>\n",
              "      <td>3.73</td>\n",
              "      <td>YES</td>\n",
              "      <td>6.700</td>\n",
              "      <td>15.40000</td>\n",
              "      <td>River</td>\n",
              "      <td>58</td>\n",
              "      <td>YES</td>\n",
              "      <td>0.067477</td>\n",
              "    </tr>\n",
              "    <tr>\n",
              "      <th>423</th>\n",
              "      <td>13.4</td>\n",
              "      <td>7.05042</td>\n",
              "      <td>48.10</td>\n",
              "      <td>0.6140</td>\n",
              "      <td>6.103</td>\n",
              "      <td>85.1</td>\n",
              "      <td>2.08</td>\n",
              "      <td>1.80</td>\n",
              "      <td>2.34</td>\n",
              "      <td>1.87</td>\n",
              "      <td>19.8</td>\n",
              "      <td>23.29</td>\n",
              "      <td>NO</td>\n",
              "      <td>8.268</td>\n",
              "      <td>46.19856</td>\n",
              "      <td>Lake</td>\n",
              "      <td>29</td>\n",
              "      <td>YES</td>\n",
              "      <td>0.063344</td>\n",
              "    </tr>\n",
              "  </tbody>\n",
              "</table>\n",
              "</div>"
            ],
            "text/plain": [
              "     price  crime_rate  resid_area  ...  rainfall  bus_ter     parks\n",
              "2     34.7     0.02729       37.07  ...        38      YES  0.045764\n",
              "166   50.0     2.01019       49.58  ...        37      YES  0.052105\n",
              "204   50.0     0.02009       32.68  ...        51      YES  0.044178\n",
              "267   50.0     0.57834       33.97  ...        42      YES  0.063235\n",
              "369   50.0     5.66998       48.10  ...        58      YES  0.067477\n",
              "423   13.4     7.05042       48.10  ...        29      YES  0.063344\n",
              "\n",
              "[6 rows x 19 columns]"
            ]
          },
          "metadata": {
            "tags": []
          },
          "execution_count": 18
        }
      ]
    },
    {
      "cell_type": "code",
      "metadata": {
        "id": "JhcErPODBA5i",
        "colab_type": "code",
        "outputId": "0347e732-89bd-4d1a-8088-cd08b663fb1c",
        "colab": {
          "base_uri": "https://localhost:8080/",
          "height": 34
        }
      },
      "source": [
        "np.percentile(df.rainfall,[1])[0]"
      ],
      "execution_count": 19,
      "outputs": [
        {
          "output_type": "execute_result",
          "data": {
            "text/plain": [
              "20.0"
            ]
          },
          "metadata": {
            "tags": []
          },
          "execution_count": 19
        }
      ]
    },
    {
      "cell_type": "code",
      "metadata": {
        "id": "NEDDS_xUBQPS",
        "colab_type": "code",
        "colab": {}
      },
      "source": [
        "lb=np.percentile(df.rainfall,[1])[0]"
      ],
      "execution_count": 0,
      "outputs": []
    },
    {
      "cell_type": "code",
      "metadata": {
        "id": "0oeUptb_BSSk",
        "colab_type": "code",
        "outputId": "e519d58d-be29-42d1-f924-154b3efd4fd3",
        "colab": {
          "base_uri": "https://localhost:8080/",
          "height": 97
        }
      },
      "source": [
        "df[(df.rainfall<lb)]"
      ],
      "execution_count": 21,
      "outputs": [
        {
          "output_type": "execute_result",
          "data": {
            "text/html": [
              "<div>\n",
              "<style scoped>\n",
              "    .dataframe tbody tr th:only-of-type {\n",
              "        vertical-align: middle;\n",
              "    }\n",
              "\n",
              "    .dataframe tbody tr th {\n",
              "        vertical-align: top;\n",
              "    }\n",
              "\n",
              "    .dataframe thead th {\n",
              "        text-align: right;\n",
              "    }\n",
              "</style>\n",
              "<table border=\"1\" class=\"dataframe\">\n",
              "  <thead>\n",
              "    <tr style=\"text-align: right;\">\n",
              "      <th></th>\n",
              "      <th>price</th>\n",
              "      <th>crime_rate</th>\n",
              "      <th>resid_area</th>\n",
              "      <th>air_qual</th>\n",
              "      <th>room_num</th>\n",
              "      <th>age</th>\n",
              "      <th>dist1</th>\n",
              "      <th>dist2</th>\n",
              "      <th>dist3</th>\n",
              "      <th>dist4</th>\n",
              "      <th>teachers</th>\n",
              "      <th>poor_prop</th>\n",
              "      <th>airport</th>\n",
              "      <th>n_hos_beds</th>\n",
              "      <th>n_hot_rooms</th>\n",
              "      <th>waterbody</th>\n",
              "      <th>rainfall</th>\n",
              "      <th>bus_ter</th>\n",
              "      <th>parks</th>\n",
              "    </tr>\n",
              "  </thead>\n",
              "  <tbody>\n",
              "    <tr>\n",
              "      <th>213</th>\n",
              "      <td>28.1</td>\n",
              "      <td>0.14052</td>\n",
              "      <td>40.59</td>\n",
              "      <td>0.489</td>\n",
              "      <td>6.375</td>\n",
              "      <td>32.3</td>\n",
              "      <td>4.11</td>\n",
              "      <td>3.92</td>\n",
              "      <td>4.18</td>\n",
              "      <td>3.57</td>\n",
              "      <td>21.4</td>\n",
              "      <td>9.38</td>\n",
              "      <td>YES</td>\n",
              "      <td>7.562</td>\n",
              "      <td>10.2248</td>\n",
              "      <td>None</td>\n",
              "      <td>3</td>\n",
              "      <td>YES</td>\n",
              "      <td>0.044019</td>\n",
              "    </tr>\n",
              "  </tbody>\n",
              "</table>\n",
              "</div>"
            ],
            "text/plain": [
              "     price  crime_rate  resid_area  ...  rainfall  bus_ter     parks\n",
              "213   28.1     0.14052       40.59  ...         3      YES  0.044019\n",
              "\n",
              "[1 rows x 19 columns]"
            ]
          },
          "metadata": {
            "tags": []
          },
          "execution_count": 21
        }
      ]
    },
    {
      "cell_type": "code",
      "metadata": {
        "id": "_TznfbuDBcHx",
        "colab_type": "code",
        "outputId": "ea9a7ab9-7860-4cd7-fd1b-66d7baae64c5",
        "colab": {
          "base_uri": "https://localhost:8080/",
          "height": 105
        }
      },
      "source": [
        "df.rainfall[(df.rainfall<0.3*lb)]=0.3*lb"
      ],
      "execution_count": 22,
      "outputs": [
        {
          "output_type": "stream",
          "text": [
            "/usr/local/lib/python3.6/dist-packages/ipykernel_launcher.py:1: SettingWithCopyWarning: \n",
            "A value is trying to be set on a copy of a slice from a DataFrame\n",
            "\n",
            "See the caveats in the documentation: https://pandas.pydata.org/pandas-docs/stable/user_guide/indexing.html#returning-a-view-versus-a-copy\n",
            "  \"\"\"Entry point for launching an IPython kernel.\n"
          ],
          "name": "stderr"
        }
      ]
    },
    {
      "cell_type": "code",
      "metadata": {
        "id": "Nc4yQrgeBhx3",
        "colab_type": "code",
        "outputId": "0cae52e0-9f2f-432e-efda-8831fa5fe280",
        "colab": {
          "base_uri": "https://localhost:8080/",
          "height": 97
        }
      },
      "source": [
        "df[(df.rainfall<lb)]"
      ],
      "execution_count": 23,
      "outputs": [
        {
          "output_type": "execute_result",
          "data": {
            "text/html": [
              "<div>\n",
              "<style scoped>\n",
              "    .dataframe tbody tr th:only-of-type {\n",
              "        vertical-align: middle;\n",
              "    }\n",
              "\n",
              "    .dataframe tbody tr th {\n",
              "        vertical-align: top;\n",
              "    }\n",
              "\n",
              "    .dataframe thead th {\n",
              "        text-align: right;\n",
              "    }\n",
              "</style>\n",
              "<table border=\"1\" class=\"dataframe\">\n",
              "  <thead>\n",
              "    <tr style=\"text-align: right;\">\n",
              "      <th></th>\n",
              "      <th>price</th>\n",
              "      <th>crime_rate</th>\n",
              "      <th>resid_area</th>\n",
              "      <th>air_qual</th>\n",
              "      <th>room_num</th>\n",
              "      <th>age</th>\n",
              "      <th>dist1</th>\n",
              "      <th>dist2</th>\n",
              "      <th>dist3</th>\n",
              "      <th>dist4</th>\n",
              "      <th>teachers</th>\n",
              "      <th>poor_prop</th>\n",
              "      <th>airport</th>\n",
              "      <th>n_hos_beds</th>\n",
              "      <th>n_hot_rooms</th>\n",
              "      <th>waterbody</th>\n",
              "      <th>rainfall</th>\n",
              "      <th>bus_ter</th>\n",
              "      <th>parks</th>\n",
              "    </tr>\n",
              "  </thead>\n",
              "  <tbody>\n",
              "    <tr>\n",
              "      <th>213</th>\n",
              "      <td>28.1</td>\n",
              "      <td>0.14052</td>\n",
              "      <td>40.59</td>\n",
              "      <td>0.489</td>\n",
              "      <td>6.375</td>\n",
              "      <td>32.3</td>\n",
              "      <td>4.11</td>\n",
              "      <td>3.92</td>\n",
              "      <td>4.18</td>\n",
              "      <td>3.57</td>\n",
              "      <td>21.4</td>\n",
              "      <td>9.38</td>\n",
              "      <td>YES</td>\n",
              "      <td>7.562</td>\n",
              "      <td>10.2248</td>\n",
              "      <td>None</td>\n",
              "      <td>6</td>\n",
              "      <td>YES</td>\n",
              "      <td>0.044019</td>\n",
              "    </tr>\n",
              "  </tbody>\n",
              "</table>\n",
              "</div>"
            ],
            "text/plain": [
              "     price  crime_rate  resid_area  ...  rainfall  bus_ter     parks\n",
              "213   28.1     0.14052       40.59  ...         6      YES  0.044019\n",
              "\n",
              "[1 rows x 19 columns]"
            ]
          },
          "metadata": {
            "tags": []
          },
          "execution_count": 23
        }
      ]
    },
    {
      "cell_type": "code",
      "metadata": {
        "id": "KkuremDyBz94",
        "colab_type": "code",
        "outputId": "4fbbb1a6-7264-4c83-e5ec-d2cdb3e1f4a5",
        "colab": {
          "base_uri": "https://localhost:8080/",
          "height": 458
        }
      },
      "source": [
        "sns.jointplot(x='crime_rate',y='price',data=df)"
      ],
      "execution_count": 24,
      "outputs": [
        {
          "output_type": "execute_result",
          "data": {
            "text/plain": [
              "<seaborn.axisgrid.JointGrid at 0x7f99ca19af98>"
            ]
          },
          "metadata": {
            "tags": []
          },
          "execution_count": 24
        },
        {
          "output_type": "display_data",
          "data": {
            "image/png": "[encoded data removed]",
            "text/plain": [
              "<Figure size 432x432 with 3 Axes>"
            ]
          },
          "metadata": {
            "tags": [],
            "needs_background": "light"
          }
        }
      ]
    },
    {
      "cell_type": "code",
      "metadata": {
        "id": "BmtPPjY2CUon",
        "colab_type": "code",
        "outputId": "4d743fea-dda9-477b-c182-6ea8f785085a",
        "colab": {
          "base_uri": "https://localhost:8080/",
          "height": 304
        }
      },
      "source": [
        "df.describe()"
      ],
      "execution_count": 25,
      "outputs": [
        {
          "output_type": "execute_result",
          "data": {
            "text/html": [
              "<div>\n",
              "<style scoped>\n",
              "    .dataframe tbody tr th:only-of-type {\n",
              "        vertical-align: middle;\n",
              "    }\n",
              "\n",
              "    .dataframe tbody tr th {\n",
              "        vertical-align: top;\n",
              "    }\n",
              "\n",
              "    .dataframe thead th {\n",
              "        text-align: right;\n",
              "    }\n",
              "</style>\n",
              "<table border=\"1\" class=\"dataframe\">\n",
              "  <thead>\n",
              "    <tr style=\"text-align: right;\">\n",
              "      <th></th>\n",
              "      <th>price</th>\n",
              "      <th>crime_rate</th>\n",
              "      <th>resid_area</th>\n",
              "      <th>air_qual</th>\n",
              "      <th>room_num</th>\n",
              "      <th>age</th>\n",
              "      <th>dist1</th>\n",
              "      <th>dist2</th>\n",
              "      <th>dist3</th>\n",
              "      <th>dist4</th>\n",
              "      <th>teachers</th>\n",
              "      <th>poor_prop</th>\n",
              "      <th>n_hos_beds</th>\n",
              "      <th>n_hot_rooms</th>\n",
              "      <th>rainfall</th>\n",
              "      <th>parks</th>\n",
              "    </tr>\n",
              "  </thead>\n",
              "  <tbody>\n",
              "    <tr>\n",
              "      <th>count</th>\n",
              "      <td>506.000000</td>\n",
              "      <td>506.000000</td>\n",
              "      <td>506.000000</td>\n",
              "      <td>506.000000</td>\n",
              "      <td>506.000000</td>\n",
              "      <td>506.000000</td>\n",
              "      <td>506.000000</td>\n",
              "      <td>506.000000</td>\n",
              "      <td>506.000000</td>\n",
              "      <td>506.000000</td>\n",
              "      <td>506.000000</td>\n",
              "      <td>506.000000</td>\n",
              "      <td>498.000000</td>\n",
              "      <td>506.000000</td>\n",
              "      <td>506.000000</td>\n",
              "      <td>506.000000</td>\n",
              "    </tr>\n",
              "    <tr>\n",
              "      <th>mean</th>\n",
              "      <td>22.528854</td>\n",
              "      <td>3.613524</td>\n",
              "      <td>41.136779</td>\n",
              "      <td>0.554695</td>\n",
              "      <td>6.284634</td>\n",
              "      <td>68.574901</td>\n",
              "      <td>3.971996</td>\n",
              "      <td>3.628775</td>\n",
              "      <td>3.960672</td>\n",
              "      <td>3.618972</td>\n",
              "      <td>21.544466</td>\n",
              "      <td>12.653063</td>\n",
              "      <td>7.899767</td>\n",
              "      <td>12.864050</td>\n",
              "      <td>39.187747</td>\n",
              "      <td>0.054454</td>\n",
              "    </tr>\n",
              "    <tr>\n",
              "      <th>std</th>\n",
              "      <td>9.182176</td>\n",
              "      <td>8.601545</td>\n",
              "      <td>6.860353</td>\n",
              "      <td>0.115878</td>\n",
              "      <td>0.702617</td>\n",
              "      <td>28.148861</td>\n",
              "      <td>2.108532</td>\n",
              "      <td>2.108580</td>\n",
              "      <td>2.119797</td>\n",
              "      <td>2.099203</td>\n",
              "      <td>2.164946</td>\n",
              "      <td>7.141062</td>\n",
              "      <td>1.476683</td>\n",
              "      <td>2.688778</td>\n",
              "      <td>12.497221</td>\n",
              "      <td>0.010632</td>\n",
              "    </tr>\n",
              "    <tr>\n",
              "      <th>min</th>\n",
              "      <td>5.000000</td>\n",
              "      <td>0.006320</td>\n",
              "      <td>30.460000</td>\n",
              "      <td>0.385000</td>\n",
              "      <td>3.561000</td>\n",
              "      <td>2.900000</td>\n",
              "      <td>1.130000</td>\n",
              "      <td>0.920000</td>\n",
              "      <td>1.150000</td>\n",
              "      <td>0.730000</td>\n",
              "      <td>18.000000</td>\n",
              "      <td>1.730000</td>\n",
              "      <td>5.268000</td>\n",
              "      <td>10.057600</td>\n",
              "      <td>6.000000</td>\n",
              "      <td>0.033292</td>\n",
              "    </tr>\n",
              "    <tr>\n",
              "      <th>25%</th>\n",
              "      <td>17.025000</td>\n",
              "      <td>0.082045</td>\n",
              "      <td>35.190000</td>\n",
              "      <td>0.449000</td>\n",
              "      <td>5.885500</td>\n",
              "      <td>45.025000</td>\n",
              "      <td>2.270000</td>\n",
              "      <td>1.940000</td>\n",
              "      <td>2.232500</td>\n",
              "      <td>1.940000</td>\n",
              "      <td>19.800000</td>\n",
              "      <td>6.950000</td>\n",
              "      <td>6.634500</td>\n",
              "      <td>11.189800</td>\n",
              "      <td>28.000000</td>\n",
              "      <td>0.046464</td>\n",
              "    </tr>\n",
              "    <tr>\n",
              "      <th>50%</th>\n",
              "      <td>21.200000</td>\n",
              "      <td>0.256510</td>\n",
              "      <td>39.690000</td>\n",
              "      <td>0.538000</td>\n",
              "      <td>6.208500</td>\n",
              "      <td>77.500000</td>\n",
              "      <td>3.385000</td>\n",
              "      <td>3.010000</td>\n",
              "      <td>3.375000</td>\n",
              "      <td>3.070000</td>\n",
              "      <td>20.950000</td>\n",
              "      <td>11.360000</td>\n",
              "      <td>7.999000</td>\n",
              "      <td>12.720000</td>\n",
              "      <td>39.000000</td>\n",
              "      <td>0.053507</td>\n",
              "    </tr>\n",
              "    <tr>\n",
              "      <th>75%</th>\n",
              "      <td>25.000000</td>\n",
              "      <td>3.677082</td>\n",
              "      <td>48.100000</td>\n",
              "      <td>0.624000</td>\n",
              "      <td>6.623500</td>\n",
              "      <td>94.075000</td>\n",
              "      <td>5.367500</td>\n",
              "      <td>4.992500</td>\n",
              "      <td>5.407500</td>\n",
              "      <td>4.985000</td>\n",
              "      <td>22.600000</td>\n",
              "      <td>16.955000</td>\n",
              "      <td>9.088000</td>\n",
              "      <td>14.170800</td>\n",
              "      <td>50.000000</td>\n",
              "      <td>0.061397</td>\n",
              "    </tr>\n",
              "    <tr>\n",
              "      <th>max</th>\n",
              "      <td>50.000000</td>\n",
              "      <td>88.976200</td>\n",
              "      <td>57.740000</td>\n",
              "      <td>0.871000</td>\n",
              "      <td>8.780000</td>\n",
              "      <td>100.000000</td>\n",
              "      <td>12.320000</td>\n",
              "      <td>11.930000</td>\n",
              "      <td>12.320000</td>\n",
              "      <td>11.940000</td>\n",
              "      <td>27.400000</td>\n",
              "      <td>37.970000</td>\n",
              "      <td>10.876000</td>\n",
              "      <td>46.198560</td>\n",
              "      <td>60.000000</td>\n",
              "      <td>0.086711</td>\n",
              "    </tr>\n",
              "  </tbody>\n",
              "</table>\n",
              "</div>"
            ],
            "text/plain": [
              "            price  crime_rate  resid_area  ...  n_hot_rooms    rainfall       parks\n",
              "count  506.000000  506.000000  506.000000  ...   506.000000  506.000000  506.000000\n",
              "mean    22.528854    3.613524   41.136779  ...    12.864050   39.187747    0.054454\n",
              "std      9.182176    8.601545    6.860353  ...     2.688778   12.497221    0.010632\n",
              "min      5.000000    0.006320   30.460000  ...    10.057600    6.000000    0.033292\n",
              "25%     17.025000    0.082045   35.190000  ...    11.189800   28.000000    0.046464\n",
              "50%     21.200000    0.256510   39.690000  ...    12.720000   39.000000    0.053507\n",
              "75%     25.000000    3.677082   48.100000  ...    14.170800   50.000000    0.061397\n",
              "max     50.000000   88.976200   57.740000  ...    46.198560   60.000000    0.086711\n",
              "\n",
              "[8 rows x 16 columns]"
            ]
          },
          "metadata": {
            "tags": []
          },
          "execution_count": 25
        }
      ]
    },
    {
      "cell_type": "code",
      "metadata": {
        "id": "WDDRL0JCwZnq",
        "colab_type": "code",
        "outputId": "5faaafaf-d92c-45c3-904c-10c45c05fcff",
        "colab": {
          "base_uri": "https://localhost:8080/",
          "height": 474
        }
      },
      "source": [
        "df.info()"
      ],
      "execution_count": 26,
      "outputs": [
        {
          "output_type": "stream",
          "text": [
            "<class 'pandas.core.frame.DataFrame'>\n",
            "RangeIndex: 506 entries, 0 to 505\n",
            "Data columns (total 19 columns):\n",
            " #   Column       Non-Null Count  Dtype  \n",
            "---  ------       --------------  -----  \n",
            " 0   price        506 non-null    float64\n",
            " 1   crime_rate   506 non-null    float64\n",
            " 2   resid_area   506 non-null    float64\n",
            " 3   air_qual     506 non-null    float64\n",
            " 4   room_num     506 non-null    float64\n",
            " 5   age          506 non-null    float64\n",
            " 6   dist1        506 non-null    float64\n",
            " 7   dist2        506 non-null    float64\n",
            " 8   dist3        506 non-null    float64\n",
            " 9   dist4        506 non-null    float64\n",
            " 10  teachers     506 non-null    float64\n",
            " 11  poor_prop    506 non-null    float64\n",
            " 12  airport      506 non-null    object \n",
            " 13  n_hos_beds   498 non-null    float64\n",
            " 14  n_hot_rooms  506 non-null    float64\n",
            " 15  waterbody    506 non-null    object \n",
            " 16  rainfall     506 non-null    int64  \n",
            " 17  bus_ter      506 non-null    object \n",
            " 18  parks        506 non-null    float64\n",
            "dtypes: float64(15), int64(1), object(3)\n",
            "memory usage: 75.2+ KB\n"
          ],
          "name": "stdout"
        }
      ]
    },
    {
      "cell_type": "code",
      "metadata": {
        "id": "Plng_cZowedl",
        "colab_type": "code",
        "colab": {}
      },
      "source": [
        "df.n_hos_beds=df.n_hos_beds.fillna(df.n_hos_beds.mean())"
      ],
      "execution_count": 0,
      "outputs": []
    },
    {
      "cell_type": "code",
      "metadata": {
        "id": "D8MQR4iEwsmJ",
        "colab_type": "code",
        "outputId": "e81b54f6-54cf-439a-c9b6-0d6e33db2c5d",
        "colab": {
          "base_uri": "https://localhost:8080/",
          "height": 474
        }
      },
      "source": [
        "df.info()"
      ],
      "execution_count": 28,
      "outputs": [
        {
          "output_type": "stream",
          "text": [
            "<class 'pandas.core.frame.DataFrame'>\n",
            "RangeIndex: 506 entries, 0 to 505\n",
            "Data columns (total 19 columns):\n",
            " #   Column       Non-Null Count  Dtype  \n",
            "---  ------       --------------  -----  \n",
            " 0   price        506 non-null    float64\n",
            " 1   crime_rate   506 non-null    float64\n",
            " 2   resid_area   506 non-null    float64\n",
            " 3   air_qual     506 non-null    float64\n",
            " 4   room_num     506 non-null    float64\n",
            " 5   age          506 non-null    float64\n",
            " 6   dist1        506 non-null    float64\n",
            " 7   dist2        506 non-null    float64\n",
            " 8   dist3        506 non-null    float64\n",
            " 9   dist4        506 non-null    float64\n",
            " 10  teachers     506 non-null    float64\n",
            " 11  poor_prop    506 non-null    float64\n",
            " 12  airport      506 non-null    object \n",
            " 13  n_hos_beds   506 non-null    float64\n",
            " 14  n_hot_rooms  506 non-null    float64\n",
            " 15  waterbody    506 non-null    object \n",
            " 16  rainfall     506 non-null    int64  \n",
            " 17  bus_ter      506 non-null    object \n",
            " 18  parks        506 non-null    float64\n",
            "dtypes: float64(15), int64(1), object(3)\n",
            "memory usage: 75.2+ KB\n"
          ],
          "name": "stdout"
        }
      ]
    },
    {
      "cell_type": "code",
      "metadata": {
        "id": "Mtdqq34UxaYO",
        "colab_type": "code",
        "outputId": "da950873-8a98-478b-b5b5-bab0203fa91c",
        "colab": {
          "base_uri": "https://localhost:8080/",
          "height": 458
        }
      },
      "source": [
        "sns.jointplot(x='crime_rate',y='price',data=df)"
      ],
      "execution_count": 29,
      "outputs": [
        {
          "output_type": "execute_result",
          "data": {
            "text/plain": [
              "<seaborn.axisgrid.JointGrid at 0x7f99ca2cc4a8>"
            ]
          },
          "metadata": {
            "tags": []
          },
          "execution_count": 29
        },
        {
          "output_type": "display_data",
          "data": {
            "image/png": "[encoded data removed]",
            "text/plain": [
              "<Figure size 432x432 with 3 Axes>"
            ]
          },
          "metadata": {
            "tags": [],
            "needs_background": "light"
          }
        }
      ]
    },
    {
      "cell_type": "code",
      "metadata": {
        "id": "L34cXiXr59ir",
        "colab_type": "code",
        "colab": {}
      },
      "source": [
        "df.crime_rate=np.log(1+df.crime_rate)"
      ],
      "execution_count": 0,
      "outputs": []
    },
    {
      "cell_type": "code",
      "metadata": {
        "id": "-bmHOwci6CkG",
        "colab_type": "code",
        "outputId": "e0d0f466-7307-4192-e062-e6af87dbae52",
        "colab": {
          "base_uri": "https://localhost:8080/",
          "height": 458
        }
      },
      "source": [
        "sns.jointplot(x='crime_rate',y='price',data=df)"
      ],
      "execution_count": 31,
      "outputs": [
        {
          "output_type": "execute_result",
          "data": {
            "text/plain": [
              "<seaborn.axisgrid.JointGrid at 0x7f99ca2229e8>"
            ]
          },
          "metadata": {
            "tags": []
          },
          "execution_count": 31
        },
        {
          "output_type": "display_data",
          "data": {
            "image/png": "[encoded data removed]",
            "text/plain": [
              "<Figure size 432x432 with 3 Axes>"
            ]
          },
          "metadata": {
            "tags": [],
            "needs_background": "light"
          }
        }
      ]
    },
    {
      "cell_type": "code",
      "metadata": {
        "id": "Hg3ucAGD6gHb",
        "colab_type": "code",
        "colab": {}
      },
      "source": [
        "df['avg_dist']=(df.dist1+df.dist2+df.dist3+df.dist4)/4"
      ],
      "execution_count": 0,
      "outputs": []
    },
    {
      "cell_type": "code",
      "metadata": {
        "id": "sb6Wy9t86q1Y",
        "colab_type": "code",
        "outputId": "9c0b7a86-f19e-4267-c19c-1bf629328f25",
        "colab": {
          "base_uri": "https://localhost:8080/",
          "height": 304
        }
      },
      "source": [
        "df.describe()"
      ],
      "execution_count": 33,
      "outputs": [
        {
          "output_type": "execute_result",
          "data": {
            "text/html": [
              "<div>\n",
              "<style scoped>\n",
              "    .dataframe tbody tr th:only-of-type {\n",
              "        vertical-align: middle;\n",
              "    }\n",
              "\n",
              "    .dataframe tbody tr th {\n",
              "        vertical-align: top;\n",
              "    }\n",
              "\n",
              "    .dataframe thead th {\n",
              "        text-align: right;\n",
              "    }\n",
              "</style>\n",
              "<table border=\"1\" class=\"dataframe\">\n",
              "  <thead>\n",
              "    <tr style=\"text-align: right;\">\n",
              "      <th></th>\n",
              "      <th>price</th>\n",
              "      <th>crime_rate</th>\n",
              "      <th>resid_area</th>\n",
              "      <th>air_qual</th>\n",
              "      <th>room_num</th>\n",
              "      <th>age</th>\n",
              "      <th>dist1</th>\n",
              "      <th>dist2</th>\n",
              "      <th>dist3</th>\n",
              "      <th>dist4</th>\n",
              "      <th>teachers</th>\n",
              "      <th>poor_prop</th>\n",
              "      <th>n_hos_beds</th>\n",
              "      <th>n_hot_rooms</th>\n",
              "      <th>rainfall</th>\n",
              "      <th>parks</th>\n",
              "      <th>avg_dist</th>\n",
              "    </tr>\n",
              "  </thead>\n",
              "  <tbody>\n",
              "    <tr>\n",
              "      <th>count</th>\n",
              "      <td>506.000000</td>\n",
              "      <td>506.000000</td>\n",
              "      <td>506.000000</td>\n",
              "      <td>506.000000</td>\n",
              "      <td>506.000000</td>\n",
              "      <td>506.000000</td>\n",
              "      <td>506.000000</td>\n",
              "      <td>506.000000</td>\n",
              "      <td>506.000000</td>\n",
              "      <td>506.000000</td>\n",
              "      <td>506.000000</td>\n",
              "      <td>506.000000</td>\n",
              "      <td>506.000000</td>\n",
              "      <td>506.000000</td>\n",
              "      <td>506.000000</td>\n",
              "      <td>506.000000</td>\n",
              "      <td>506.000000</td>\n",
              "    </tr>\n",
              "    <tr>\n",
              "      <th>mean</th>\n",
              "      <td>22.528854</td>\n",
              "      <td>0.813418</td>\n",
              "      <td>41.136779</td>\n",
              "      <td>0.554695</td>\n",
              "      <td>6.284634</td>\n",
              "      <td>68.574901</td>\n",
              "      <td>3.971996</td>\n",
              "      <td>3.628775</td>\n",
              "      <td>3.960672</td>\n",
              "      <td>3.618972</td>\n",
              "      <td>21.544466</td>\n",
              "      <td>12.653063</td>\n",
              "      <td>7.899767</td>\n",
              "      <td>12.864050</td>\n",
              "      <td>39.187747</td>\n",
              "      <td>0.054454</td>\n",
              "      <td>3.795104</td>\n",
              "    </tr>\n",
              "    <tr>\n",
              "      <th>std</th>\n",
              "      <td>9.182176</td>\n",
              "      <td>1.022731</td>\n",
              "      <td>6.860353</td>\n",
              "      <td>0.115878</td>\n",
              "      <td>0.702617</td>\n",
              "      <td>28.148861</td>\n",
              "      <td>2.108532</td>\n",
              "      <td>2.108580</td>\n",
              "      <td>2.119797</td>\n",
              "      <td>2.099203</td>\n",
              "      <td>2.164946</td>\n",
              "      <td>7.141062</td>\n",
              "      <td>1.464939</td>\n",
              "      <td>2.688778</td>\n",
              "      <td>12.497221</td>\n",
              "      <td>0.010632</td>\n",
              "      <td>2.105859</td>\n",
              "    </tr>\n",
              "    <tr>\n",
              "      <th>min</th>\n",
              "      <td>5.000000</td>\n",
              "      <td>0.006300</td>\n",
              "      <td>30.460000</td>\n",
              "      <td>0.385000</td>\n",
              "      <td>3.561000</td>\n",
              "      <td>2.900000</td>\n",
              "      <td>1.130000</td>\n",
              "      <td>0.920000</td>\n",
              "      <td>1.150000</td>\n",
              "      <td>0.730000</td>\n",
              "      <td>18.000000</td>\n",
              "      <td>1.730000</td>\n",
              "      <td>5.268000</td>\n",
              "      <td>10.057600</td>\n",
              "      <td>6.000000</td>\n",
              "      <td>0.033292</td>\n",
              "      <td>1.127500</td>\n",
              "    </tr>\n",
              "    <tr>\n",
              "      <th>25%</th>\n",
              "      <td>17.025000</td>\n",
              "      <td>0.078853</td>\n",
              "      <td>35.190000</td>\n",
              "      <td>0.449000</td>\n",
              "      <td>5.885500</td>\n",
              "      <td>45.025000</td>\n",
              "      <td>2.270000</td>\n",
              "      <td>1.940000</td>\n",
              "      <td>2.232500</td>\n",
              "      <td>1.940000</td>\n",
              "      <td>19.800000</td>\n",
              "      <td>6.950000</td>\n",
              "      <td>6.659000</td>\n",
              "      <td>11.189800</td>\n",
              "      <td>28.000000</td>\n",
              "      <td>0.046464</td>\n",
              "      <td>2.100625</td>\n",
              "    </tr>\n",
              "    <tr>\n",
              "      <th>50%</th>\n",
              "      <td>21.200000</td>\n",
              "      <td>0.228336</td>\n",
              "      <td>39.690000</td>\n",
              "      <td>0.538000</td>\n",
              "      <td>6.208500</td>\n",
              "      <td>77.500000</td>\n",
              "      <td>3.385000</td>\n",
              "      <td>3.010000</td>\n",
              "      <td>3.375000</td>\n",
              "      <td>3.070000</td>\n",
              "      <td>20.950000</td>\n",
              "      <td>11.360000</td>\n",
              "      <td>7.963000</td>\n",
              "      <td>12.720000</td>\n",
              "      <td>39.000000</td>\n",
              "      <td>0.053507</td>\n",
              "      <td>3.207500</td>\n",
              "    </tr>\n",
              "    <tr>\n",
              "      <th>75%</th>\n",
              "      <td>25.000000</td>\n",
              "      <td>1.542674</td>\n",
              "      <td>48.100000</td>\n",
              "      <td>0.624000</td>\n",
              "      <td>6.623500</td>\n",
              "      <td>94.075000</td>\n",
              "      <td>5.367500</td>\n",
              "      <td>4.992500</td>\n",
              "      <td>5.407500</td>\n",
              "      <td>4.985000</td>\n",
              "      <td>22.600000</td>\n",
              "      <td>16.955000</td>\n",
              "      <td>9.076000</td>\n",
              "      <td>14.170800</td>\n",
              "      <td>50.000000</td>\n",
              "      <td>0.061397</td>\n",
              "      <td>5.187500</td>\n",
              "    </tr>\n",
              "    <tr>\n",
              "      <th>max</th>\n",
              "      <td>50.000000</td>\n",
              "      <td>4.499545</td>\n",
              "      <td>57.740000</td>\n",
              "      <td>0.871000</td>\n",
              "      <td>8.780000</td>\n",
              "      <td>100.000000</td>\n",
              "      <td>12.320000</td>\n",
              "      <td>11.930000</td>\n",
              "      <td>12.320000</td>\n",
              "      <td>11.940000</td>\n",
              "      <td>27.400000</td>\n",
              "      <td>37.970000</td>\n",
              "      <td>10.876000</td>\n",
              "      <td>46.198560</td>\n",
              "      <td>60.000000</td>\n",
              "      <td>0.086711</td>\n",
              "      <td>12.127500</td>\n",
              "    </tr>\n",
              "  </tbody>\n",
              "</table>\n",
              "</div>"
            ],
            "text/plain": [
              "            price  crime_rate  resid_area  ...    rainfall       parks    avg_dist\n",
              "count  506.000000  506.000000  506.000000  ...  506.000000  506.000000  506.000000\n",
              "mean    22.528854    0.813418   41.136779  ...   39.187747    0.054454    3.795104\n",
              "std      9.182176    1.022731    6.860353  ...   12.497221    0.010632    2.105859\n",
              "min      5.000000    0.006300   30.460000  ...    6.000000    0.033292    1.127500\n",
              "25%     17.025000    0.078853   35.190000  ...   28.000000    0.046464    2.100625\n",
              "50%     21.200000    0.228336   39.690000  ...   39.000000    0.053507    3.207500\n",
              "75%     25.000000    1.542674   48.100000  ...   50.000000    0.061397    5.187500\n",
              "max     50.000000    4.499545   57.740000  ...   60.000000    0.086711   12.127500\n",
              "\n",
              "[8 rows x 17 columns]"
            ]
          },
          "metadata": {
            "tags": []
          },
          "execution_count": 33
        }
      ]
    },
    {
      "cell_type": "code",
      "metadata": {
        "id": "ZuAmAxZh64OE",
        "colab_type": "code",
        "colab": {}
      },
      "source": [
        "del df['dist1']\n",
        "del df['dist2']\n",
        "del df['dist3']\n",
        "del df['dist4']"
      ],
      "execution_count": 0,
      "outputs": []
    },
    {
      "cell_type": "code",
      "metadata": {
        "id": "nlRKBNIe9xXR",
        "colab_type": "code",
        "colab": {}
      },
      "source": [
        "del df['bus_ter']"
      ],
      "execution_count": 0,
      "outputs": []
    },
    {
      "cell_type": "code",
      "metadata": {
        "id": "SN4setvl91Ds",
        "colab_type": "code",
        "outputId": "dfae7c08-06f6-4481-da10-ff7e115a7304",
        "colab": {
          "base_uri": "https://localhost:8080/",
          "height": 304
        }
      },
      "source": [
        "df.describe()"
      ],
      "execution_count": 36,
      "outputs": [
        {
          "output_type": "execute_result",
          "data": {
            "text/html": [
              "<div>\n",
              "<style scoped>\n",
              "    .dataframe tbody tr th:only-of-type {\n",
              "        vertical-align: middle;\n",
              "    }\n",
              "\n",
              "    .dataframe tbody tr th {\n",
              "        vertical-align: top;\n",
              "    }\n",
              "\n",
              "    .dataframe thead th {\n",
              "        text-align: right;\n",
              "    }\n",
              "</style>\n",
              "<table border=\"1\" class=\"dataframe\">\n",
              "  <thead>\n",
              "    <tr style=\"text-align: right;\">\n",
              "      <th></th>\n",
              "      <th>price</th>\n",
              "      <th>crime_rate</th>\n",
              "      <th>resid_area</th>\n",
              "      <th>air_qual</th>\n",
              "      <th>room_num</th>\n",
              "      <th>age</th>\n",
              "      <th>teachers</th>\n",
              "      <th>poor_prop</th>\n",
              "      <th>n_hos_beds</th>\n",
              "      <th>n_hot_rooms</th>\n",
              "      <th>rainfall</th>\n",
              "      <th>parks</th>\n",
              "      <th>avg_dist</th>\n",
              "    </tr>\n",
              "  </thead>\n",
              "  <tbody>\n",
              "    <tr>\n",
              "      <th>count</th>\n",
              "      <td>506.000000</td>\n",
              "      <td>506.000000</td>\n",
              "      <td>506.000000</td>\n",
              "      <td>506.000000</td>\n",
              "      <td>506.000000</td>\n",
              "      <td>506.000000</td>\n",
              "      <td>506.000000</td>\n",
              "      <td>506.000000</td>\n",
              "      <td>506.000000</td>\n",
              "      <td>506.000000</td>\n",
              "      <td>506.000000</td>\n",
              "      <td>506.000000</td>\n",
              "      <td>506.000000</td>\n",
              "    </tr>\n",
              "    <tr>\n",
              "      <th>mean</th>\n",
              "      <td>22.528854</td>\n",
              "      <td>0.813418</td>\n",
              "      <td>41.136779</td>\n",
              "      <td>0.554695</td>\n",
              "      <td>6.284634</td>\n",
              "      <td>68.574901</td>\n",
              "      <td>21.544466</td>\n",
              "      <td>12.653063</td>\n",
              "      <td>7.899767</td>\n",
              "      <td>12.864050</td>\n",
              "      <td>39.187747</td>\n",
              "      <td>0.054454</td>\n",
              "      <td>3.795104</td>\n",
              "    </tr>\n",
              "    <tr>\n",
              "      <th>std</th>\n",
              "      <td>9.182176</td>\n",
              "      <td>1.022731</td>\n",
              "      <td>6.860353</td>\n",
              "      <td>0.115878</td>\n",
              "      <td>0.702617</td>\n",
              "      <td>28.148861</td>\n",
              "      <td>2.164946</td>\n",
              "      <td>7.141062</td>\n",
              "      <td>1.464939</td>\n",
              "      <td>2.688778</td>\n",
              "      <td>12.497221</td>\n",
              "      <td>0.010632</td>\n",
              "      <td>2.105859</td>\n",
              "    </tr>\n",
              "    <tr>\n",
              "      <th>min</th>\n",
              "      <td>5.000000</td>\n",
              "      <td>0.006300</td>\n",
              "      <td>30.460000</td>\n",
              "      <td>0.385000</td>\n",
              "      <td>3.561000</td>\n",
              "      <td>2.900000</td>\n",
              "      <td>18.000000</td>\n",
              "      <td>1.730000</td>\n",
              "      <td>5.268000</td>\n",
              "      <td>10.057600</td>\n",
              "      <td>6.000000</td>\n",
              "      <td>0.033292</td>\n",
              "      <td>1.127500</td>\n",
              "    </tr>\n",
              "    <tr>\n",
              "      <th>25%</th>\n",
              "      <td>17.025000</td>\n",
              "      <td>0.078853</td>\n",
              "      <td>35.190000</td>\n",
              "      <td>0.449000</td>\n",
              "      <td>5.885500</td>\n",
              "      <td>45.025000</td>\n",
              "      <td>19.800000</td>\n",
              "      <td>6.950000</td>\n",
              "      <td>6.659000</td>\n",
              "      <td>11.189800</td>\n",
              "      <td>28.000000</td>\n",
              "      <td>0.046464</td>\n",
              "      <td>2.100625</td>\n",
              "    </tr>\n",
              "    <tr>\n",
              "      <th>50%</th>\n",
              "      <td>21.200000</td>\n",
              "      <td>0.228336</td>\n",
              "      <td>39.690000</td>\n",
              "      <td>0.538000</td>\n",
              "      <td>6.208500</td>\n",
              "      <td>77.500000</td>\n",
              "      <td>20.950000</td>\n",
              "      <td>11.360000</td>\n",
              "      <td>7.963000</td>\n",
              "      <td>12.720000</td>\n",
              "      <td>39.000000</td>\n",
              "      <td>0.053507</td>\n",
              "      <td>3.207500</td>\n",
              "    </tr>\n",
              "    <tr>\n",
              "      <th>75%</th>\n",
              "      <td>25.000000</td>\n",
              "      <td>1.542674</td>\n",
              "      <td>48.100000</td>\n",
              "      <td>0.624000</td>\n",
              "      <td>6.623500</td>\n",
              "      <td>94.075000</td>\n",
              "      <td>22.600000</td>\n",
              "      <td>16.955000</td>\n",
              "      <td>9.076000</td>\n",
              "      <td>14.170800</td>\n",
              "      <td>50.000000</td>\n",
              "      <td>0.061397</td>\n",
              "      <td>5.187500</td>\n",
              "    </tr>\n",
              "    <tr>\n",
              "      <th>max</th>\n",
              "      <td>50.000000</td>\n",
              "      <td>4.499545</td>\n",
              "      <td>57.740000</td>\n",
              "      <td>0.871000</td>\n",
              "      <td>8.780000</td>\n",
              "      <td>100.000000</td>\n",
              "      <td>27.400000</td>\n",
              "      <td>37.970000</td>\n",
              "      <td>10.876000</td>\n",
              "      <td>46.198560</td>\n",
              "      <td>60.000000</td>\n",
              "      <td>0.086711</td>\n",
              "      <td>12.127500</td>\n",
              "    </tr>\n",
              "  </tbody>\n",
              "</table>\n",
              "</div>"
            ],
            "text/plain": [
              "            price  crime_rate  resid_area  ...    rainfall       parks    avg_dist\n",
              "count  506.000000  506.000000  506.000000  ...  506.000000  506.000000  506.000000\n",
              "mean    22.528854    0.813418   41.136779  ...   39.187747    0.054454    3.795104\n",
              "std      9.182176    1.022731    6.860353  ...   12.497221    0.010632    2.105859\n",
              "min      5.000000    0.006300   30.460000  ...    6.000000    0.033292    1.127500\n",
              "25%     17.025000    0.078853   35.190000  ...   28.000000    0.046464    2.100625\n",
              "50%     21.200000    0.228336   39.690000  ...   39.000000    0.053507    3.207500\n",
              "75%     25.000000    1.542674   48.100000  ...   50.000000    0.061397    5.187500\n",
              "max     50.000000    4.499545   57.740000  ...   60.000000    0.086711   12.127500\n",
              "\n",
              "[8 rows x 13 columns]"
            ]
          },
          "metadata": {
            "tags": []
          },
          "execution_count": 36
        }
      ]
    },
    {
      "cell_type": "code",
      "metadata": {
        "id": "e0mlcoYKBf-T",
        "colab_type": "code",
        "colab": {}
      },
      "source": [
        "df=pd.get_dummies(df)"
      ],
      "execution_count": 0,
      "outputs": []
    },
    {
      "cell_type": "code",
      "metadata": {
        "id": "LTnzti_eBvEm",
        "colab_type": "code",
        "outputId": "2b6c7fd5-96e0-48b4-a857-b50c1d62b65e",
        "colab": {
          "base_uri": "https://localhost:8080/",
          "height": 232
        }
      },
      "source": [
        "df.head()"
      ],
      "execution_count": 38,
      "outputs": [
        {
          "output_type": "execute_result",
          "data": {
            "text/html": [
              "<div>\n",
              "<style scoped>\n",
              "    .dataframe tbody tr th:only-of-type {\n",
              "        vertical-align: middle;\n",
              "    }\n",
              "\n",
              "    .dataframe tbody tr th {\n",
              "        vertical-align: top;\n",
              "    }\n",
              "\n",
              "    .dataframe thead th {\n",
              "        text-align: right;\n",
              "    }\n",
              "</style>\n",
              "<table border=\"1\" class=\"dataframe\">\n",
              "  <thead>\n",
              "    <tr style=\"text-align: right;\">\n",
              "      <th></th>\n",
              "      <th>price</th>\n",
              "      <th>crime_rate</th>\n",
              "      <th>resid_area</th>\n",
              "      <th>air_qual</th>\n",
              "      <th>room_num</th>\n",
              "      <th>age</th>\n",
              "      <th>teachers</th>\n",
              "      <th>poor_prop</th>\n",
              "      <th>n_hos_beds</th>\n",
              "      <th>n_hot_rooms</th>\n",
              "      <th>rainfall</th>\n",
              "      <th>parks</th>\n",
              "      <th>avg_dist</th>\n",
              "      <th>airport_NO</th>\n",
              "      <th>airport_YES</th>\n",
              "      <th>waterbody_Lake</th>\n",
              "      <th>waterbody_Lake and River</th>\n",
              "      <th>waterbody_None</th>\n",
              "      <th>waterbody_River</th>\n",
              "    </tr>\n",
              "  </thead>\n",
              "  <tbody>\n",
              "    <tr>\n",
              "      <th>0</th>\n",
              "      <td>24.0</td>\n",
              "      <td>0.006300</td>\n",
              "      <td>32.31</td>\n",
              "      <td>0.538</td>\n",
              "      <td>6.575</td>\n",
              "      <td>65.2</td>\n",
              "      <td>24.7</td>\n",
              "      <td>4.98</td>\n",
              "      <td>5.480</td>\n",
              "      <td>11.19200</td>\n",
              "      <td>23</td>\n",
              "      <td>0.049347</td>\n",
              "      <td>4.0875</td>\n",
              "      <td>0</td>\n",
              "      <td>1</td>\n",
              "      <td>0</td>\n",
              "      <td>0</td>\n",
              "      <td>0</td>\n",
              "      <td>1</td>\n",
              "    </tr>\n",
              "    <tr>\n",
              "      <th>1</th>\n",
              "      <td>21.6</td>\n",
              "      <td>0.026944</td>\n",
              "      <td>37.07</td>\n",
              "      <td>0.469</td>\n",
              "      <td>6.421</td>\n",
              "      <td>78.9</td>\n",
              "      <td>22.2</td>\n",
              "      <td>9.14</td>\n",
              "      <td>7.332</td>\n",
              "      <td>12.17280</td>\n",
              "      <td>42</td>\n",
              "      <td>0.046146</td>\n",
              "      <td>4.9675</td>\n",
              "      <td>1</td>\n",
              "      <td>0</td>\n",
              "      <td>1</td>\n",
              "      <td>0</td>\n",
              "      <td>0</td>\n",
              "      <td>0</td>\n",
              "    </tr>\n",
              "    <tr>\n",
              "      <th>2</th>\n",
              "      <td>34.7</td>\n",
              "      <td>0.026924</td>\n",
              "      <td>37.07</td>\n",
              "      <td>0.469</td>\n",
              "      <td>7.185</td>\n",
              "      <td>61.1</td>\n",
              "      <td>22.2</td>\n",
              "      <td>4.03</td>\n",
              "      <td>7.394</td>\n",
              "      <td>46.19856</td>\n",
              "      <td>38</td>\n",
              "      <td>0.045764</td>\n",
              "      <td>4.9675</td>\n",
              "      <td>1</td>\n",
              "      <td>0</td>\n",
              "      <td>0</td>\n",
              "      <td>0</td>\n",
              "      <td>1</td>\n",
              "      <td>0</td>\n",
              "    </tr>\n",
              "    <tr>\n",
              "      <th>3</th>\n",
              "      <td>33.4</td>\n",
              "      <td>0.031857</td>\n",
              "      <td>32.18</td>\n",
              "      <td>0.458</td>\n",
              "      <td>6.998</td>\n",
              "      <td>45.8</td>\n",
              "      <td>21.3</td>\n",
              "      <td>2.94</td>\n",
              "      <td>9.268</td>\n",
              "      <td>11.26720</td>\n",
              "      <td>45</td>\n",
              "      <td>0.047151</td>\n",
              "      <td>6.0650</td>\n",
              "      <td>0</td>\n",
              "      <td>1</td>\n",
              "      <td>1</td>\n",
              "      <td>0</td>\n",
              "      <td>0</td>\n",
              "      <td>0</td>\n",
              "    </tr>\n",
              "    <tr>\n",
              "      <th>4</th>\n",
              "      <td>36.2</td>\n",
              "      <td>0.066770</td>\n",
              "      <td>32.18</td>\n",
              "      <td>0.458</td>\n",
              "      <td>7.147</td>\n",
              "      <td>54.2</td>\n",
              "      <td>21.3</td>\n",
              "      <td>5.33</td>\n",
              "      <td>8.824</td>\n",
              "      <td>11.28960</td>\n",
              "      <td>55</td>\n",
              "      <td>0.039474</td>\n",
              "      <td>6.0625</td>\n",
              "      <td>1</td>\n",
              "      <td>0</td>\n",
              "      <td>1</td>\n",
              "      <td>0</td>\n",
              "      <td>0</td>\n",
              "      <td>0</td>\n",
              "    </tr>\n",
              "  </tbody>\n",
              "</table>\n",
              "</div>"
            ],
            "text/plain": [
              "   price  crime_rate  ...  waterbody_None  waterbody_River\n",
              "0   24.0    0.006300  ...               0                1\n",
              "1   21.6    0.026944  ...               0                0\n",
              "2   34.7    0.026924  ...               1                0\n",
              "3   33.4    0.031857  ...               0                0\n",
              "4   36.2    0.066770  ...               0                0\n",
              "\n",
              "[5 rows x 19 columns]"
            ]
          },
          "metadata": {
            "tags": []
          },
          "execution_count": 38
        }
      ]
    },
    {
      "cell_type": "code",
      "metadata": {
        "id": "Xrj3YsKoDUrL",
        "colab_type": "code",
        "colab": {}
      },
      "source": [
        "del df['airport_NO']\n",
        "del df['waterbody_None']"
      ],
      "execution_count": 0,
      "outputs": []
    },
    {
      "cell_type": "code",
      "metadata": {
        "id": "xf2napasDaw8",
        "colab_type": "code",
        "outputId": "debeccb4-e4e8-4a87-b04c-a59286e906c6",
        "colab": {
          "base_uri": "https://localhost:8080/",
          "height": 232
        }
      },
      "source": [
        "df.head()"
      ],
      "execution_count": 40,
      "outputs": [
        {
          "output_type": "execute_result",
          "data": {
            "text/html": [
              "<div>\n",
              "<style scoped>\n",
              "    .dataframe tbody tr th:only-of-type {\n",
              "        vertical-align: middle;\n",
              "    }\n",
              "\n",
              "    .dataframe tbody tr th {\n",
              "        vertical-align: top;\n",
              "    }\n",
              "\n",
              "    .dataframe thead th {\n",
              "        text-align: right;\n",
              "    }\n",
              "</style>\n",
              "<table border=\"1\" class=\"dataframe\">\n",
              "  <thead>\n",
              "    <tr style=\"text-align: right;\">\n",
              "      <th></th>\n",
              "      <th>price</th>\n",
              "      <th>crime_rate</th>\n",
              "      <th>resid_area</th>\n",
              "      <th>air_qual</th>\n",
              "      <th>room_num</th>\n",
              "      <th>age</th>\n",
              "      <th>teachers</th>\n",
              "      <th>poor_prop</th>\n",
              "      <th>n_hos_beds</th>\n",
              "      <th>n_hot_rooms</th>\n",
              "      <th>rainfall</th>\n",
              "      <th>parks</th>\n",
              "      <th>avg_dist</th>\n",
              "      <th>airport_YES</th>\n",
              "      <th>waterbody_Lake</th>\n",
              "      <th>waterbody_Lake and River</th>\n",
              "      <th>waterbody_River</th>\n",
              "    </tr>\n",
              "  </thead>\n",
              "  <tbody>\n",
              "    <tr>\n",
              "      <th>0</th>\n",
              "      <td>24.0</td>\n",
              "      <td>0.006300</td>\n",
              "      <td>32.31</td>\n",
              "      <td>0.538</td>\n",
              "      <td>6.575</td>\n",
              "      <td>65.2</td>\n",
              "      <td>24.7</td>\n",
              "      <td>4.98</td>\n",
              "      <td>5.480</td>\n",
              "      <td>11.19200</td>\n",
              "      <td>23</td>\n",
              "      <td>0.049347</td>\n",
              "      <td>4.0875</td>\n",
              "      <td>1</td>\n",
              "      <td>0</td>\n",
              "      <td>0</td>\n",
              "      <td>1</td>\n",
              "    </tr>\n",
              "    <tr>\n",
              "      <th>1</th>\n",
              "      <td>21.6</td>\n",
              "      <td>0.026944</td>\n",
              "      <td>37.07</td>\n",
              "      <td>0.469</td>\n",
              "      <td>6.421</td>\n",
              "      <td>78.9</td>\n",
              "      <td>22.2</td>\n",
              "      <td>9.14</td>\n",
              "      <td>7.332</td>\n",
              "      <td>12.17280</td>\n",
              "      <td>42</td>\n",
              "      <td>0.046146</td>\n",
              "      <td>4.9675</td>\n",
              "      <td>0</td>\n",
              "      <td>1</td>\n",
              "      <td>0</td>\n",
              "      <td>0</td>\n",
              "    </tr>\n",
              "    <tr>\n",
              "      <th>2</th>\n",
              "      <td>34.7</td>\n",
              "      <td>0.026924</td>\n",
              "      <td>37.07</td>\n",
              "      <td>0.469</td>\n",
              "      <td>7.185</td>\n",
              "      <td>61.1</td>\n",
              "      <td>22.2</td>\n",
              "      <td>4.03</td>\n",
              "      <td>7.394</td>\n",
              "      <td>46.19856</td>\n",
              "      <td>38</td>\n",
              "      <td>0.045764</td>\n",
              "      <td>4.9675</td>\n",
              "      <td>0</td>\n",
              "      <td>0</td>\n",
              "      <td>0</td>\n",
              "      <td>0</td>\n",
              "    </tr>\n",
              "    <tr>\n",
              "      <th>3</th>\n",
              "      <td>33.4</td>\n",
              "      <td>0.031857</td>\n",
              "      <td>32.18</td>\n",
              "      <td>0.458</td>\n",
              "      <td>6.998</td>\n",
              "      <td>45.8</td>\n",
              "      <td>21.3</td>\n",
              "      <td>2.94</td>\n",
              "      <td>9.268</td>\n",
              "      <td>11.26720</td>\n",
              "      <td>45</td>\n",
              "      <td>0.047151</td>\n",
              "      <td>6.0650</td>\n",
              "      <td>1</td>\n",
              "      <td>1</td>\n",
              "      <td>0</td>\n",
              "      <td>0</td>\n",
              "    </tr>\n",
              "    <tr>\n",
              "      <th>4</th>\n",
              "      <td>36.2</td>\n",
              "      <td>0.066770</td>\n",
              "      <td>32.18</td>\n",
              "      <td>0.458</td>\n",
              "      <td>7.147</td>\n",
              "      <td>54.2</td>\n",
              "      <td>21.3</td>\n",
              "      <td>5.33</td>\n",
              "      <td>8.824</td>\n",
              "      <td>11.28960</td>\n",
              "      <td>55</td>\n",
              "      <td>0.039474</td>\n",
              "      <td>6.0625</td>\n",
              "      <td>0</td>\n",
              "      <td>1</td>\n",
              "      <td>0</td>\n",
              "      <td>0</td>\n",
              "    </tr>\n",
              "  </tbody>\n",
              "</table>\n",
              "</div>"
            ],
            "text/plain": [
              "   price  crime_rate  ...  waterbody_Lake and River  waterbody_River\n",
              "0   24.0    0.006300  ...                         0                1\n",
              "1   21.6    0.026944  ...                         0                0\n",
              "2   34.7    0.026924  ...                         0                0\n",
              "3   33.4    0.031857  ...                         0                0\n",
              "4   36.2    0.066770  ...                         0                0\n",
              "\n",
              "[5 rows x 17 columns]"
            ]
          },
          "metadata": {
            "tags": []
          },
          "execution_count": 40
        }
      ]
    },
    {
      "cell_type": "code",
      "metadata": {
        "id": "cjyVP4kAM-lO",
        "colab_type": "code",
        "outputId": "65fedc8f-f22d-4369-f256-832926d8af33",
        "colab": {
          "base_uri": "https://localhost:8080/",
          "height": 604
        }
      },
      "source": [
        "df.corr()"
      ],
      "execution_count": 41,
      "outputs": [
        {
          "output_type": "execute_result",
          "data": {
            "text/html": [
              "<div>\n",
              "<style scoped>\n",
              "    .dataframe tbody tr th:only-of-type {\n",
              "        vertical-align: middle;\n",
              "    }\n",
              "\n",
              "    .dataframe tbody tr th {\n",
              "        vertical-align: top;\n",
              "    }\n",
              "\n",
              "    .dataframe thead th {\n",
              "        text-align: right;\n",
              "    }\n",
              "</style>\n",
              "<table border=\"1\" class=\"dataframe\">\n",
              "  <thead>\n",
              "    <tr style=\"text-align: right;\">\n",
              "      <th></th>\n",
              "      <th>price</th>\n",
              "      <th>crime_rate</th>\n",
              "      <th>resid_area</th>\n",
              "      <th>air_qual</th>\n",
              "      <th>room_num</th>\n",
              "      <th>age</th>\n",
              "      <th>teachers</th>\n",
              "      <th>poor_prop</th>\n",
              "      <th>n_hos_beds</th>\n",
              "      <th>n_hot_rooms</th>\n",
              "      <th>rainfall</th>\n",
              "      <th>parks</th>\n",
              "      <th>avg_dist</th>\n",
              "      <th>airport_YES</th>\n",
              "      <th>waterbody_Lake</th>\n",
              "      <th>waterbody_Lake and River</th>\n",
              "      <th>waterbody_River</th>\n",
              "    </tr>\n",
              "  </thead>\n",
              "  <tbody>\n",
              "    <tr>\n",
              "      <th>price</th>\n",
              "      <td>1.000000</td>\n",
              "      <td>-0.466527</td>\n",
              "      <td>-0.484754</td>\n",
              "      <td>-0.429300</td>\n",
              "      <td>0.696304</td>\n",
              "      <td>-0.377999</td>\n",
              "      <td>0.505655</td>\n",
              "      <td>-0.740836</td>\n",
              "      <td>0.108880</td>\n",
              "      <td>0.017007</td>\n",
              "      <td>-0.047200</td>\n",
              "      <td>-0.391574</td>\n",
              "      <td>0.249289</td>\n",
              "      <td>0.182867</td>\n",
              "      <td>0.036233</td>\n",
              "      <td>-0.037497</td>\n",
              "      <td>0.071751</td>\n",
              "    </tr>\n",
              "    <tr>\n",
              "      <th>crime_rate</th>\n",
              "      <td>-0.466527</td>\n",
              "      <td>1.000000</td>\n",
              "      <td>0.660283</td>\n",
              "      <td>0.707587</td>\n",
              "      <td>-0.288784</td>\n",
              "      <td>0.559591</td>\n",
              "      <td>-0.390052</td>\n",
              "      <td>0.608970</td>\n",
              "      <td>-0.004089</td>\n",
              "      <td>0.056570</td>\n",
              "      <td>0.082151</td>\n",
              "      <td>0.638951</td>\n",
              "      <td>-0.586371</td>\n",
              "      <td>-0.134486</td>\n",
              "      <td>-0.025390</td>\n",
              "      <td>0.009076</td>\n",
              "      <td>-0.060099</td>\n",
              "    </tr>\n",
              "    <tr>\n",
              "      <th>resid_area</th>\n",
              "      <td>-0.484754</td>\n",
              "      <td>0.660283</td>\n",
              "      <td>1.000000</td>\n",
              "      <td>0.763651</td>\n",
              "      <td>-0.391676</td>\n",
              "      <td>0.644779</td>\n",
              "      <td>-0.383248</td>\n",
              "      <td>0.603800</td>\n",
              "      <td>0.005799</td>\n",
              "      <td>-0.003761</td>\n",
              "      <td>0.055845</td>\n",
              "      <td>0.707635</td>\n",
              "      <td>-0.708022</td>\n",
              "      <td>-0.115401</td>\n",
              "      <td>-0.026590</td>\n",
              "      <td>0.051649</td>\n",
              "      <td>-0.098976</td>\n",
              "    </tr>\n",
              "    <tr>\n",
              "      <th>air_qual</th>\n",
              "      <td>-0.429300</td>\n",
              "      <td>0.707587</td>\n",
              "      <td>0.763651</td>\n",
              "      <td>1.000000</td>\n",
              "      <td>-0.302188</td>\n",
              "      <td>0.731470</td>\n",
              "      <td>-0.188933</td>\n",
              "      <td>0.590879</td>\n",
              "      <td>-0.049553</td>\n",
              "      <td>0.007238</td>\n",
              "      <td>0.091956</td>\n",
              "      <td>0.915544</td>\n",
              "      <td>-0.769247</td>\n",
              "      <td>-0.073903</td>\n",
              "      <td>-0.046393</td>\n",
              "      <td>0.013849</td>\n",
              "      <td>-0.037772</td>\n",
              "    </tr>\n",
              "    <tr>\n",
              "      <th>room_num</th>\n",
              "      <td>0.696304</td>\n",
              "      <td>-0.288784</td>\n",
              "      <td>-0.391676</td>\n",
              "      <td>-0.302188</td>\n",
              "      <td>1.000000</td>\n",
              "      <td>-0.240265</td>\n",
              "      <td>0.355501</td>\n",
              "      <td>-0.613808</td>\n",
              "      <td>0.032009</td>\n",
              "      <td>0.014583</td>\n",
              "      <td>-0.064718</td>\n",
              "      <td>-0.282817</td>\n",
              "      <td>0.205241</td>\n",
              "      <td>0.163774</td>\n",
              "      <td>-0.004195</td>\n",
              "      <td>0.010554</td>\n",
              "      <td>0.046251</td>\n",
              "    </tr>\n",
              "    <tr>\n",
              "      <th>age</th>\n",
              "      <td>-0.377999</td>\n",
              "      <td>0.559591</td>\n",
              "      <td>0.644779</td>\n",
              "      <td>0.731470</td>\n",
              "      <td>-0.240265</td>\n",
              "      <td>1.000000</td>\n",
              "      <td>-0.261515</td>\n",
              "      <td>0.602339</td>\n",
              "      <td>-0.021012</td>\n",
              "      <td>0.013918</td>\n",
              "      <td>0.074684</td>\n",
              "      <td>0.673850</td>\n",
              "      <td>-0.747906</td>\n",
              "      <td>0.005101</td>\n",
              "      <td>0.003452</td>\n",
              "      <td>-0.004354</td>\n",
              "      <td>-0.088609</td>\n",
              "    </tr>\n",
              "    <tr>\n",
              "      <th>teachers</th>\n",
              "      <td>0.505655</td>\n",
              "      <td>-0.390052</td>\n",
              "      <td>-0.383248</td>\n",
              "      <td>-0.188933</td>\n",
              "      <td>0.355501</td>\n",
              "      <td>-0.261515</td>\n",
              "      <td>1.000000</td>\n",
              "      <td>-0.374044</td>\n",
              "      <td>-0.008056</td>\n",
              "      <td>-0.037007</td>\n",
              "      <td>-0.045928</td>\n",
              "      <td>-0.187004</td>\n",
              "      <td>0.232452</td>\n",
              "      <td>0.069437</td>\n",
              "      <td>0.048717</td>\n",
              "      <td>-0.046981</td>\n",
              "      <td>0.094256</td>\n",
              "    </tr>\n",
              "    <tr>\n",
              "      <th>poor_prop</th>\n",
              "      <td>-0.740836</td>\n",
              "      <td>0.608970</td>\n",
              "      <td>0.603800</td>\n",
              "      <td>0.590879</td>\n",
              "      <td>-0.613808</td>\n",
              "      <td>0.602339</td>\n",
              "      <td>-0.374044</td>\n",
              "      <td>1.000000</td>\n",
              "      <td>-0.066008</td>\n",
              "      <td>0.017036</td>\n",
              "      <td>0.061444</td>\n",
              "      <td>0.552310</td>\n",
              "      <td>-0.496967</td>\n",
              "      <td>-0.095054</td>\n",
              "      <td>0.003197</td>\n",
              "      <td>0.020620</td>\n",
              "      <td>-0.109004</td>\n",
              "    </tr>\n",
              "    <tr>\n",
              "      <th>n_hos_beds</th>\n",
              "      <td>0.108880</td>\n",
              "      <td>-0.004089</td>\n",
              "      <td>0.005799</td>\n",
              "      <td>-0.049553</td>\n",
              "      <td>0.032009</td>\n",
              "      <td>-0.021012</td>\n",
              "      <td>-0.008056</td>\n",
              "      <td>-0.066008</td>\n",
              "      <td>1.000000</td>\n",
              "      <td>-0.003130</td>\n",
              "      <td>0.058596</td>\n",
              "      <td>-0.071272</td>\n",
              "      <td>-0.027871</td>\n",
              "      <td>-0.006365</td>\n",
              "      <td>0.042278</td>\n",
              "      <td>0.059482</td>\n",
              "      <td>-0.074148</td>\n",
              "    </tr>\n",
              "    <tr>\n",
              "      <th>n_hot_rooms</th>\n",
              "      <td>0.017007</td>\n",
              "      <td>0.056570</td>\n",
              "      <td>-0.003761</td>\n",
              "      <td>0.007238</td>\n",
              "      <td>0.014583</td>\n",
              "      <td>0.013918</td>\n",
              "      <td>-0.037007</td>\n",
              "      <td>0.017036</td>\n",
              "      <td>-0.003130</td>\n",
              "      <td>1.000000</td>\n",
              "      <td>0.014869</td>\n",
              "      <td>0.023757</td>\n",
              "      <td>-0.020700</td>\n",
              "      <td>-0.055338</td>\n",
              "      <td>0.037925</td>\n",
              "      <td>0.014755</td>\n",
              "      <td>-0.064096</td>\n",
              "    </tr>\n",
              "    <tr>\n",
              "      <th>rainfall</th>\n",
              "      <td>-0.047200</td>\n",
              "      <td>0.082151</td>\n",
              "      <td>0.055845</td>\n",
              "      <td>0.091956</td>\n",
              "      <td>-0.064718</td>\n",
              "      <td>0.074684</td>\n",
              "      <td>-0.045928</td>\n",
              "      <td>0.061444</td>\n",
              "      <td>0.058596</td>\n",
              "      <td>0.014869</td>\n",
              "      <td>1.000000</td>\n",
              "      <td>0.078278</td>\n",
              "      <td>-0.037285</td>\n",
              "      <td>-0.013171</td>\n",
              "      <td>-0.016170</td>\n",
              "      <td>0.109234</td>\n",
              "      <td>-0.037016</td>\n",
              "    </tr>\n",
              "    <tr>\n",
              "      <th>parks</th>\n",
              "      <td>-0.391574</td>\n",
              "      <td>0.638951</td>\n",
              "      <td>0.707635</td>\n",
              "      <td>0.915544</td>\n",
              "      <td>-0.282817</td>\n",
              "      <td>0.673850</td>\n",
              "      <td>-0.187004</td>\n",
              "      <td>0.552310</td>\n",
              "      <td>-0.071272</td>\n",
              "      <td>0.023757</td>\n",
              "      <td>0.078278</td>\n",
              "      <td>1.000000</td>\n",
              "      <td>-0.707924</td>\n",
              "      <td>-0.052503</td>\n",
              "      <td>-0.034991</td>\n",
              "      <td>0.013265</td>\n",
              "      <td>-0.048862</td>\n",
              "    </tr>\n",
              "    <tr>\n",
              "      <th>avg_dist</th>\n",
              "      <td>0.249289</td>\n",
              "      <td>-0.586371</td>\n",
              "      <td>-0.708022</td>\n",
              "      <td>-0.769247</td>\n",
              "      <td>0.205241</td>\n",
              "      <td>-0.747906</td>\n",
              "      <td>0.232452</td>\n",
              "      <td>-0.496967</td>\n",
              "      <td>-0.027871</td>\n",
              "      <td>-0.020700</td>\n",
              "      <td>-0.037285</td>\n",
              "      <td>-0.707924</td>\n",
              "      <td>1.000000</td>\n",
              "      <td>0.021402</td>\n",
              "      <td>0.034890</td>\n",
              "      <td>-0.021320</td>\n",
              "      <td>0.032247</td>\n",
              "    </tr>\n",
              "    <tr>\n",
              "      <th>airport_YES</th>\n",
              "      <td>0.182867</td>\n",
              "      <td>-0.134486</td>\n",
              "      <td>-0.115401</td>\n",
              "      <td>-0.073903</td>\n",
              "      <td>0.163774</td>\n",
              "      <td>0.005101</td>\n",
              "      <td>0.069437</td>\n",
              "      <td>-0.095054</td>\n",
              "      <td>-0.006365</td>\n",
              "      <td>-0.055338</td>\n",
              "      <td>-0.013171</td>\n",
              "      <td>-0.052503</td>\n",
              "      <td>0.021402</td>\n",
              "      <td>1.000000</td>\n",
              "      <td>0.035491</td>\n",
              "      <td>-0.070341</td>\n",
              "      <td>0.017341</td>\n",
              "    </tr>\n",
              "    <tr>\n",
              "      <th>waterbody_Lake</th>\n",
              "      <td>0.036233</td>\n",
              "      <td>-0.025390</td>\n",
              "      <td>-0.026590</td>\n",
              "      <td>-0.046393</td>\n",
              "      <td>-0.004195</td>\n",
              "      <td>0.003452</td>\n",
              "      <td>0.048717</td>\n",
              "      <td>0.003197</td>\n",
              "      <td>0.042278</td>\n",
              "      <td>0.037925</td>\n",
              "      <td>-0.016170</td>\n",
              "      <td>-0.034991</td>\n",
              "      <td>0.034890</td>\n",
              "      <td>0.035491</td>\n",
              "      <td>1.000000</td>\n",
              "      <td>-0.196747</td>\n",
              "      <td>-0.366563</td>\n",
              "    </tr>\n",
              "    <tr>\n",
              "      <th>waterbody_Lake and River</th>\n",
              "      <td>-0.037497</td>\n",
              "      <td>0.009076</td>\n",
              "      <td>0.051649</td>\n",
              "      <td>0.013849</td>\n",
              "      <td>0.010554</td>\n",
              "      <td>-0.004354</td>\n",
              "      <td>-0.046981</td>\n",
              "      <td>0.020620</td>\n",
              "      <td>0.059482</td>\n",
              "      <td>0.014755</td>\n",
              "      <td>0.109234</td>\n",
              "      <td>0.013265</td>\n",
              "      <td>-0.021320</td>\n",
              "      <td>-0.070341</td>\n",
              "      <td>-0.196747</td>\n",
              "      <td>1.000000</td>\n",
              "      <td>-0.304095</td>\n",
              "    </tr>\n",
              "    <tr>\n",
              "      <th>waterbody_River</th>\n",
              "      <td>0.071751</td>\n",
              "      <td>-0.060099</td>\n",
              "      <td>-0.098976</td>\n",
              "      <td>-0.037772</td>\n",
              "      <td>0.046251</td>\n",
              "      <td>-0.088609</td>\n",
              "      <td>0.094256</td>\n",
              "      <td>-0.109004</td>\n",
              "      <td>-0.074148</td>\n",
              "      <td>-0.064096</td>\n",
              "      <td>-0.037016</td>\n",
              "      <td>-0.048862</td>\n",
              "      <td>0.032247</td>\n",
              "      <td>0.017341</td>\n",
              "      <td>-0.366563</td>\n",
              "      <td>-0.304095</td>\n",
              "      <td>1.000000</td>\n",
              "    </tr>\n",
              "  </tbody>\n",
              "</table>\n",
              "</div>"
            ],
            "text/plain": [
              "                             price  ...  waterbody_River\n",
              "price                     1.000000  ...         0.071751\n",
              "crime_rate               -0.466527  ...        -0.060099\n",
              "resid_area               -0.484754  ...        -0.098976\n",
              "air_qual                 -0.429300  ...        -0.037772\n",
              "room_num                  0.696304  ...         0.046251\n",
              "age                      -0.377999  ...        -0.088609\n",
              "teachers                  0.505655  ...         0.094256\n",
              "poor_prop                -0.740836  ...        -0.109004\n",
              "n_hos_beds                0.108880  ...        -0.074148\n",
              "n_hot_rooms               0.017007  ...        -0.064096\n",
              "rainfall                 -0.047200  ...        -0.037016\n",
              "parks                    -0.391574  ...        -0.048862\n",
              "avg_dist                  0.249289  ...         0.032247\n",
              "airport_YES               0.182867  ...         0.017341\n",
              "waterbody_Lake            0.036233  ...        -0.366563\n",
              "waterbody_Lake and River -0.037497  ...        -0.304095\n",
              "waterbody_River           0.071751  ...         1.000000\n",
              "\n",
              "[17 rows x 17 columns]"
            ]
          },
          "metadata": {
            "tags": []
          },
          "execution_count": 41
        }
      ]
    },
    {
      "cell_type": "code",
      "metadata": {
        "id": "hoqi-AA3Rd3Z",
        "colab_type": "code",
        "colab": {}
      },
      "source": [
        "del df['parks']"
      ],
      "execution_count": 0,
      "outputs": []
    },
    {
      "cell_type": "code",
      "metadata": {
        "id": "vDrB5bxURif4",
        "colab_type": "code",
        "outputId": "1de20132-09a5-4293-a08a-d0ee32e00f89",
        "colab": {
          "base_uri": "https://localhost:8080/",
          "height": 232
        }
      },
      "source": [
        "df.head()"
      ],
      "execution_count": 43,
      "outputs": [
        {
          "output_type": "execute_result",
          "data": {
            "text/html": [
              "<div>\n",
              "<style scoped>\n",
              "    .dataframe tbody tr th:only-of-type {\n",
              "        vertical-align: middle;\n",
              "    }\n",
              "\n",
              "    .dataframe tbody tr th {\n",
              "        vertical-align: top;\n",
              "    }\n",
              "\n",
              "    .dataframe thead th {\n",
              "        text-align: right;\n",
              "    }\n",
              "</style>\n",
              "<table border=\"1\" class=\"dataframe\">\n",
              "  <thead>\n",
              "    <tr style=\"text-align: right;\">\n",
              "      <th></th>\n",
              "      <th>price</th>\n",
              "      <th>crime_rate</th>\n",
              "      <th>resid_area</th>\n",
              "      <th>air_qual</th>\n",
              "      <th>room_num</th>\n",
              "      <th>age</th>\n",
              "      <th>teachers</th>\n",
              "      <th>poor_prop</th>\n",
              "      <th>n_hos_beds</th>\n",
              "      <th>n_hot_rooms</th>\n",
              "      <th>rainfall</th>\n",
              "      <th>avg_dist</th>\n",
              "      <th>airport_YES</th>\n",
              "      <th>waterbody_Lake</th>\n",
              "      <th>waterbody_Lake and River</th>\n",
              "      <th>waterbody_River</th>\n",
              "    </tr>\n",
              "  </thead>\n",
              "  <tbody>\n",
              "    <tr>\n",
              "      <th>0</th>\n",
              "      <td>24.0</td>\n",
              "      <td>0.006300</td>\n",
              "      <td>32.31</td>\n",
              "      <td>0.538</td>\n",
              "      <td>6.575</td>\n",
              "      <td>65.2</td>\n",
              "      <td>24.7</td>\n",
              "      <td>4.98</td>\n",
              "      <td>5.480</td>\n",
              "      <td>11.19200</td>\n",
              "      <td>23</td>\n",
              "      <td>4.0875</td>\n",
              "      <td>1</td>\n",
              "      <td>0</td>\n",
              "      <td>0</td>\n",
              "      <td>1</td>\n",
              "    </tr>\n",
              "    <tr>\n",
              "      <th>1</th>\n",
              "      <td>21.6</td>\n",
              "      <td>0.026944</td>\n",
              "      <td>37.07</td>\n",
              "      <td>0.469</td>\n",
              "      <td>6.421</td>\n",
              "      <td>78.9</td>\n",
              "      <td>22.2</td>\n",
              "      <td>9.14</td>\n",
              "      <td>7.332</td>\n",
              "      <td>12.17280</td>\n",
              "      <td>42</td>\n",
              "      <td>4.9675</td>\n",
              "      <td>0</td>\n",
              "      <td>1</td>\n",
              "      <td>0</td>\n",
              "      <td>0</td>\n",
              "    </tr>\n",
              "    <tr>\n",
              "      <th>2</th>\n",
              "      <td>34.7</td>\n",
              "      <td>0.026924</td>\n",
              "      <td>37.07</td>\n",
              "      <td>0.469</td>\n",
              "      <td>7.185</td>\n",
              "      <td>61.1</td>\n",
              "      <td>22.2</td>\n",
              "      <td>4.03</td>\n",
              "      <td>7.394</td>\n",
              "      <td>46.19856</td>\n",
              "      <td>38</td>\n",
              "      <td>4.9675</td>\n",
              "      <td>0</td>\n",
              "      <td>0</td>\n",
              "      <td>0</td>\n",
              "      <td>0</td>\n",
              "    </tr>\n",
              "    <tr>\n",
              "      <th>3</th>\n",
              "      <td>33.4</td>\n",
              "      <td>0.031857</td>\n",
              "      <td>32.18</td>\n",
              "      <td>0.458</td>\n",
              "      <td>6.998</td>\n",
              "      <td>45.8</td>\n",
              "      <td>21.3</td>\n",
              "      <td>2.94</td>\n",
              "      <td>9.268</td>\n",
              "      <td>11.26720</td>\n",
              "      <td>45</td>\n",
              "      <td>6.0650</td>\n",
              "      <td>1</td>\n",
              "      <td>1</td>\n",
              "      <td>0</td>\n",
              "      <td>0</td>\n",
              "    </tr>\n",
              "    <tr>\n",
              "      <th>4</th>\n",
              "      <td>36.2</td>\n",
              "      <td>0.066770</td>\n",
              "      <td>32.18</td>\n",
              "      <td>0.458</td>\n",
              "      <td>7.147</td>\n",
              "      <td>54.2</td>\n",
              "      <td>21.3</td>\n",
              "      <td>5.33</td>\n",
              "      <td>8.824</td>\n",
              "      <td>11.28960</td>\n",
              "      <td>55</td>\n",
              "      <td>6.0625</td>\n",
              "      <td>0</td>\n",
              "      <td>1</td>\n",
              "      <td>0</td>\n",
              "      <td>0</td>\n",
              "    </tr>\n",
              "  </tbody>\n",
              "</table>\n",
              "</div>"
            ],
            "text/plain": [
              "   price  crime_rate  ...  waterbody_Lake and River  waterbody_River\n",
              "0   24.0    0.006300  ...                         0                1\n",
              "1   21.6    0.026944  ...                         0                0\n",
              "2   34.7    0.026924  ...                         0                0\n",
              "3   33.4    0.031857  ...                         0                0\n",
              "4   36.2    0.066770  ...                         0                0\n",
              "\n",
              "[5 rows x 16 columns]"
            ]
          },
          "metadata": {
            "tags": []
          },
          "execution_count": 43
        }
      ]
    },
    {
      "cell_type": "markdown",
      "metadata": {
        "id": "maL_pgsOKppq",
        "colab_type": "text"
      },
      "source": [
        "#Linear Regression"
      ]
    },
    {
      "cell_type": "code",
      "metadata": {
        "id": "G3Ko8yJoKqCS",
        "colab_type": "code",
        "colab": {}
      },
      "source": [
        "import statsmodels.api as sn"
      ],
      "execution_count": 0,
      "outputs": []
    },
    {
      "cell_type": "code",
      "metadata": {
        "id": "DL-0QwtoXmkW",
        "colab_type": "code",
        "colab": {}
      },
      "source": [
        "X=sn.add_constant(df['room_num'])"
      ],
      "execution_count": 0,
      "outputs": []
    },
    {
      "cell_type": "code",
      "metadata": {
        "id": "qdYdYep5Xwp9",
        "colab_type": "code",
        "colab": {}
      },
      "source": [
        "lm=sn.OLS(df['price'],X).fit()"
      ],
      "execution_count": 0,
      "outputs": []
    },
    {
      "cell_type": "code",
      "metadata": {
        "id": "TimXkarNX6__",
        "colab_type": "code",
        "outputId": "f9e83746-ac7d-4dd3-abaa-d900330b0bbe",
        "colab": {
          "base_uri": "https://localhost:8080/",
          "height": 426
        }
      },
      "source": [
        "lm.summary()"
      ],
      "execution_count": 47,
      "outputs": [
        {
          "output_type": "execute_result",
          "data": {
            "text/html": [
              "<table class=\"simpletable\">\n",
              "<caption>OLS Regression Results</caption>\n",
              "<tr>\n",
              "  <th>Dep. Variable:</th>          <td>price</td>      <th>  R-squared:         </th> <td>   0.485</td>\n",
              "</tr>\n",
              "<tr>\n",
              "  <th>Model:</th>                   <td>OLS</td>       <th>  Adj. R-squared:    </th> <td>   0.484</td>\n",
              "</tr>\n",
              "<tr>\n",
              "  <th>Method:</th>             <td>Least Squares</td>  <th>  F-statistic:       </th> <td>   474.3</td>\n",
              "</tr>\n",
              "<tr>\n",
              "  <th>Date:</th>             <td>Wed, 29 Apr 2020</td> <th>  Prob (F-statistic):</th> <td>1.31e-74</td>\n",
              "</tr>\n",
              "<tr>\n",
              "  <th>Time:</th>                 <td>05:07:50</td>     <th>  Log-Likelihood:    </th> <td> -1671.6</td>\n",
              "</tr>\n",
              "<tr>\n",
              "  <th>No. Observations:</th>      <td>   506</td>      <th>  AIC:               </th> <td>   3347.</td>\n",
              "</tr>\n",
              "<tr>\n",
              "  <th>Df Residuals:</th>          <td>   504</td>      <th>  BIC:               </th> <td>   3356.</td>\n",
              "</tr>\n",
              "<tr>\n",
              "  <th>Df Model:</th>              <td>     1</td>      <th>                     </th>     <td> </td>   \n",
              "</tr>\n",
              "<tr>\n",
              "  <th>Covariance Type:</th>      <td>nonrobust</td>    <th>                     </th>     <td> </td>   \n",
              "</tr>\n",
              "</table>\n",
              "<table class=\"simpletable\">\n",
              "<tr>\n",
              "      <td></td>        <th>coef</th>     <th>std err</th>      <th>t</th>      <th>P>|t|</th>  <th>[0.025</th>    <th>0.975]</th>  \n",
              "</tr>\n",
              "<tr>\n",
              "  <th>const</th>    <td>  -34.6592</td> <td>    2.642</td> <td>  -13.118</td> <td> 0.000</td> <td>  -39.850</td> <td>  -29.468</td>\n",
              "</tr>\n",
              "<tr>\n",
              "  <th>room_num</th> <td>    9.0997</td> <td>    0.418</td> <td>   21.779</td> <td> 0.000</td> <td>    8.279</td> <td>    9.921</td>\n",
              "</tr>\n",
              "</table>\n",
              "<table class=\"simpletable\">\n",
              "<tr>\n",
              "  <th>Omnibus:</th>       <td>103.753</td> <th>  Durbin-Watson:     </th> <td>   0.681</td> \n",
              "</tr>\n",
              "<tr>\n",
              "  <th>Prob(Omnibus):</th> <td> 0.000</td>  <th>  Jarque-Bera (JB):  </th> <td> 633.429</td> \n",
              "</tr>\n",
              "<tr>\n",
              "  <th>Skew:</th>          <td> 0.729</td>  <th>  Prob(JB):          </th> <td>2.84e-138</td>\n",
              "</tr>\n",
              "<tr>\n",
              "  <th>Kurtosis:</th>      <td> 8.284</td>  <th>  Cond. No.          </th> <td>    58.4</td> \n",
              "</tr>\n",
              "</table><br/><br/>Warnings:<br/>[1] Standard Errors assume that the covariance matrix of the errors is correctly specified."
            ],
            "text/plain": [
              "<class 'statsmodels.iolib.summary.Summary'>\n",
              "\"\"\"\n",
              "                            OLS Regression Results                            \n",
              "==============================================================================\n",
              "Dep. Variable:                  price   R-squared:                       0.485\n",
              "Model:                            OLS   Adj. R-squared:                  0.484\n",
              "Method:                 Least Squares   F-statistic:                     474.3\n",
              "Date:                Wed, 29 Apr 2020   Prob (F-statistic):           1.31e-74\n",
              "Time:                        05:07:50   Log-Likelihood:                -1671.6\n",
              "No. Observations:                 506   AIC:                             3347.\n",
              "Df Residuals:                     504   BIC:                             3356.\n",
              "Df Model:                           1                                         \n",
              "Covariance Type:            nonrobust                                         \n",
              "==============================================================================\n",
              "                 coef    std err          t      P>|t|      [0.025      0.975]\n",
              "------------------------------------------------------------------------------\n",
              "const        -34.6592      2.642    -13.118      0.000     -39.850     -29.468\n",
              "room_num       9.0997      0.418     21.779      0.000       8.279       9.921\n",
              "==============================================================================\n",
              "Omnibus:                      103.753   Durbin-Watson:                   0.681\n",
              "Prob(Omnibus):                  0.000   Jarque-Bera (JB):              633.429\n",
              "Skew:                           0.729   Prob(JB):                    2.84e-138\n",
              "Kurtosis:                       8.284   Cond. No.                         58.4\n",
              "==============================================================================\n",
              "\n",
              "Warnings:\n",
              "[1] Standard Errors assume that the covariance matrix of the errors is correctly specified.\n",
              "\"\"\""
            ]
          },
          "metadata": {
            "tags": []
          },
          "execution_count": 47
        }
      ]
    },
    {
      "cell_type": "code",
      "metadata": {
        "id": "s0wRbaaiYBFB",
        "colab_type": "code",
        "colab": {}
      },
      "source": [
        "from sklearn.linear_model import LinearRegression"
      ],
      "execution_count": 0,
      "outputs": []
    },
    {
      "cell_type": "code",
      "metadata": {
        "id": "Nzfg9BGgYREm",
        "colab_type": "code",
        "colab": {}
      },
      "source": [
        "y=df['price']"
      ],
      "execution_count": 0,
      "outputs": []
    },
    {
      "cell_type": "code",
      "metadata": {
        "id": "oAmzBIx8YZG6",
        "colab_type": "code",
        "colab": {}
      },
      "source": [
        "#X should be 2D array\n",
        "X=df[['room_num']]"
      ],
      "execution_count": 0,
      "outputs": []
    },
    {
      "cell_type": "code",
      "metadata": {
        "id": "t1fYYyfPYhNR",
        "colab_type": "code",
        "colab": {}
      },
      "source": [
        "lm2=LinearRegression()"
      ],
      "execution_count": 0,
      "outputs": []
    },
    {
      "cell_type": "code",
      "metadata": {
        "id": "hXkJxmlcYk1V",
        "colab_type": "code",
        "outputId": "355d45ce-7905-4498-beeb-885a9d805641",
        "colab": {
          "base_uri": "https://localhost:8080/",
          "height": 34
        }
      },
      "source": [
        "lm2.fit(X,y)"
      ],
      "execution_count": 52,
      "outputs": [
        {
          "output_type": "execute_result",
          "data": {
            "text/plain": [
              "LinearRegression(copy_X=True, fit_intercept=True, n_jobs=None, normalize=False)"
            ]
          },
          "metadata": {
            "tags": []
          },
          "execution_count": 52
        }
      ]
    },
    {
      "cell_type": "code",
      "metadata": {
        "id": "M0bRMsmqYp2O",
        "colab_type": "code",
        "outputId": "589bf079-c480-4166-9ed3-37e94dbfbabb",
        "colab": {
          "base_uri": "https://localhost:8080/",
          "height": 34
        }
      },
      "source": [
        "print(lm2.intercept_,lm2.coef_)"
      ],
      "execution_count": 53,
      "outputs": [
        {
          "output_type": "stream",
          "text": [
            "-34.65924312309717 [9.09966966]\n"
          ],
          "name": "stdout"
        }
      ]
    },
    {
      "cell_type": "code",
      "metadata": {
        "id": "VPRRz8GnY1lZ",
        "colab_type": "code",
        "colab": {}
      },
      "source": [
        "pred=lm2.predict(X)"
      ],
      "execution_count": 0,
      "outputs": []
    },
    {
      "cell_type": "code",
      "metadata": {
        "id": "rux7Y2exY-Rd",
        "colab_type": "code",
        "outputId": "a431ee52-44d3-431c-a408-eebc3d270a3f",
        "colab": {
          "base_uri": "https://localhost:8080/",
          "height": 458
        }
      },
      "source": [
        "sns.jointplot(x=df['room_num'],y=df['price'],data=df,kind='reg')"
      ],
      "execution_count": 55,
      "outputs": [
        {
          "output_type": "execute_result",
          "data": {
            "text/plain": [
              "<seaborn.axisgrid.JointGrid at 0x7f99bc00aa58>"
            ]
          },
          "metadata": {
            "tags": []
          },
          "execution_count": 55
        },
        {
          "output_type": "display_data",
          "data": {
            "image/png": "[encoded data removed]",
            "text/plain": [
              "<Figure size 432x432 with 3 Axes>"
            ]
          },
          "metadata": {
            "tags": [],
            "needs_background": "light"
          }
        }
      ]
    },
    {
      "cell_type": "markdown",
      "metadata": {
        "id": "eaA__1BCVdws",
        "colab_type": "text"
      },
      "source": [
        "#Multiple Linear Regression"
      ]
    },
    {
      "cell_type": "code",
      "metadata": {
        "id": "TH31-OETVbw_",
        "colab_type": "code",
        "colab": {}
      },
      "source": [
        "X_multi=df.drop('price',axis=1)"
      ],
      "execution_count": 0,
      "outputs": []
    },
    {
      "cell_type": "code",
      "metadata": {
        "id": "JWR2Cy-qV5Nq",
        "colab_type": "code",
        "colab": {
          "base_uri": "https://localhost:8080/",
          "height": 232
        },
        "outputId": "cc1e718e-d12f-4adf-cb81-07345b37a034"
      },
      "source": [
        "X_multi.head()"
      ],
      "execution_count": 61,
      "outputs": [
        {
          "output_type": "execute_result",
          "data": {
            "text/html": [
              "<div>\n",
              "<style scoped>\n",
              "    .dataframe tbody tr th:only-of-type {\n",
              "        vertical-align: middle;\n",
              "    }\n",
              "\n",
              "    .dataframe tbody tr th {\n",
              "        vertical-align: top;\n",
              "    }\n",
              "\n",
              "    .dataframe thead th {\n",
              "        text-align: right;\n",
              "    }\n",
              "</style>\n",
              "<table border=\"1\" class=\"dataframe\">\n",
              "  <thead>\n",
              "    <tr style=\"text-align: right;\">\n",
              "      <th></th>\n",
              "      <th>crime_rate</th>\n",
              "      <th>resid_area</th>\n",
              "      <th>air_qual</th>\n",
              "      <th>room_num</th>\n",
              "      <th>age</th>\n",
              "      <th>teachers</th>\n",
              "      <th>poor_prop</th>\n",
              "      <th>n_hos_beds</th>\n",
              "      <th>n_hot_rooms</th>\n",
              "      <th>rainfall</th>\n",
              "      <th>avg_dist</th>\n",
              "      <th>airport_YES</th>\n",
              "      <th>waterbody_Lake</th>\n",
              "      <th>waterbody_Lake and River</th>\n",
              "      <th>waterbody_River</th>\n",
              "    </tr>\n",
              "  </thead>\n",
              "  <tbody>\n",
              "    <tr>\n",
              "      <th>0</th>\n",
              "      <td>0.006300</td>\n",
              "      <td>32.31</td>\n",
              "      <td>0.538</td>\n",
              "      <td>6.575</td>\n",
              "      <td>65.2</td>\n",
              "      <td>24.7</td>\n",
              "      <td>4.98</td>\n",
              "      <td>5.480</td>\n",
              "      <td>11.19200</td>\n",
              "      <td>23</td>\n",
              "      <td>4.0875</td>\n",
              "      <td>1</td>\n",
              "      <td>0</td>\n",
              "      <td>0</td>\n",
              "      <td>1</td>\n",
              "    </tr>\n",
              "    <tr>\n",
              "      <th>1</th>\n",
              "      <td>0.026944</td>\n",
              "      <td>37.07</td>\n",
              "      <td>0.469</td>\n",
              "      <td>6.421</td>\n",
              "      <td>78.9</td>\n",
              "      <td>22.2</td>\n",
              "      <td>9.14</td>\n",
              "      <td>7.332</td>\n",
              "      <td>12.17280</td>\n",
              "      <td>42</td>\n",
              "      <td>4.9675</td>\n",
              "      <td>0</td>\n",
              "      <td>1</td>\n",
              "      <td>0</td>\n",
              "      <td>0</td>\n",
              "    </tr>\n",
              "    <tr>\n",
              "      <th>2</th>\n",
              "      <td>0.026924</td>\n",
              "      <td>37.07</td>\n",
              "      <td>0.469</td>\n",
              "      <td>7.185</td>\n",
              "      <td>61.1</td>\n",
              "      <td>22.2</td>\n",
              "      <td>4.03</td>\n",
              "      <td>7.394</td>\n",
              "      <td>46.19856</td>\n",
              "      <td>38</td>\n",
              "      <td>4.9675</td>\n",
              "      <td>0</td>\n",
              "      <td>0</td>\n",
              "      <td>0</td>\n",
              "      <td>0</td>\n",
              "    </tr>\n",
              "    <tr>\n",
              "      <th>3</th>\n",
              "      <td>0.031857</td>\n",
              "      <td>32.18</td>\n",
              "      <td>0.458</td>\n",
              "      <td>6.998</td>\n",
              "      <td>45.8</td>\n",
              "      <td>21.3</td>\n",
              "      <td>2.94</td>\n",
              "      <td>9.268</td>\n",
              "      <td>11.26720</td>\n",
              "      <td>45</td>\n",
              "      <td>6.0650</td>\n",
              "      <td>1</td>\n",
              "      <td>1</td>\n",
              "      <td>0</td>\n",
              "      <td>0</td>\n",
              "    </tr>\n",
              "    <tr>\n",
              "      <th>4</th>\n",
              "      <td>0.066770</td>\n",
              "      <td>32.18</td>\n",
              "      <td>0.458</td>\n",
              "      <td>7.147</td>\n",
              "      <td>54.2</td>\n",
              "      <td>21.3</td>\n",
              "      <td>5.33</td>\n",
              "      <td>8.824</td>\n",
              "      <td>11.28960</td>\n",
              "      <td>55</td>\n",
              "      <td>6.0625</td>\n",
              "      <td>0</td>\n",
              "      <td>1</td>\n",
              "      <td>0</td>\n",
              "      <td>0</td>\n",
              "    </tr>\n",
              "  </tbody>\n",
              "</table>\n",
              "</div>"
            ],
            "text/plain": [
              "   crime_rate  resid_area  ...  waterbody_Lake and River  waterbody_River\n",
              "0    0.006300       32.31  ...                         0                1\n",
              "1    0.026944       37.07  ...                         0                0\n",
              "2    0.026924       37.07  ...                         0                0\n",
              "3    0.031857       32.18  ...                         0                0\n",
              "4    0.066770       32.18  ...                         0                0\n",
              "\n",
              "[5 rows x 15 columns]"
            ]
          },
          "metadata": {
            "tags": []
          },
          "execution_count": 61
        }
      ]
    },
    {
      "cell_type": "code",
      "metadata": {
        "id": "LAHnroQ4V2N_",
        "colab_type": "code",
        "colab": {}
      },
      "source": [
        "Y_multi=df['price']"
      ],
      "execution_count": 0,
      "outputs": []
    },
    {
      "cell_type": "code",
      "metadata": {
        "id": "DiUyrBDvV-Ix",
        "colab_type": "code",
        "colab": {
          "base_uri": "https://localhost:8080/",
          "height": 122
        },
        "outputId": "32b5bc1e-e072-47c3-82ec-bd3fd6c431ce"
      },
      "source": [
        "Y_multi.head()"
      ],
      "execution_count": 63,
      "outputs": [
        {
          "output_type": "execute_result",
          "data": {
            "text/plain": [
              "0    24.0\n",
              "1    21.6\n",
              "2    34.7\n",
              "3    33.4\n",
              "4    36.2\n",
              "Name: price, dtype: float64"
            ]
          },
          "metadata": {
            "tags": []
          },
          "execution_count": 63
        }
      ]
    },
    {
      "cell_type": "code",
      "metadata": {
        "id": "cKcwb5RmWA6w",
        "colab_type": "code",
        "colab": {}
      },
      "source": [
        "#Adding constant to our stats model\n",
        "X_multi_cons=sn.add_constant(X_multi)"
      ],
      "execution_count": 0,
      "outputs": []
    },
    {
      "cell_type": "code",
      "metadata": {
        "id": "AIyMP8C8WPBp",
        "colab_type": "code",
        "colab": {
          "base_uri": "https://localhost:8080/",
          "height": 232
        },
        "outputId": "c9ef2d2e-49bb-41a6-a21f-20311ce45f9a"
      },
      "source": [
        "X_multi_cons.head()"
      ],
      "execution_count": 65,
      "outputs": [
        {
          "output_type": "execute_result",
          "data": {
            "text/html": [
              "<div>\n",
              "<style scoped>\n",
              "    .dataframe tbody tr th:only-of-type {\n",
              "        vertical-align: middle;\n",
              "    }\n",
              "\n",
              "    .dataframe tbody tr th {\n",
              "        vertical-align: top;\n",
              "    }\n",
              "\n",
              "    .dataframe thead th {\n",
              "        text-align: right;\n",
              "    }\n",
              "</style>\n",
              "<table border=\"1\" class=\"dataframe\">\n",
              "  <thead>\n",
              "    <tr style=\"text-align: right;\">\n",
              "      <th></th>\n",
              "      <th>const</th>\n",
              "      <th>crime_rate</th>\n",
              "      <th>resid_area</th>\n",
              "      <th>air_qual</th>\n",
              "      <th>room_num</th>\n",
              "      <th>age</th>\n",
              "      <th>teachers</th>\n",
              "      <th>poor_prop</th>\n",
              "      <th>n_hos_beds</th>\n",
              "      <th>n_hot_rooms</th>\n",
              "      <th>rainfall</th>\n",
              "      <th>avg_dist</th>\n",
              "      <th>airport_YES</th>\n",
              "      <th>waterbody_Lake</th>\n",
              "      <th>waterbody_Lake and River</th>\n",
              "      <th>waterbody_River</th>\n",
              "    </tr>\n",
              "  </thead>\n",
              "  <tbody>\n",
              "    <tr>\n",
              "      <th>0</th>\n",
              "      <td>1.0</td>\n",
              "      <td>0.006300</td>\n",
              "      <td>32.31</td>\n",
              "      <td>0.538</td>\n",
              "      <td>6.575</td>\n",
              "      <td>65.2</td>\n",
              "      <td>24.7</td>\n",
              "      <td>4.98</td>\n",
              "      <td>5.480</td>\n",
              "      <td>11.19200</td>\n",
              "      <td>23</td>\n",
              "      <td>4.0875</td>\n",
              "      <td>1</td>\n",
              "      <td>0</td>\n",
              "      <td>0</td>\n",
              "      <td>1</td>\n",
              "    </tr>\n",
              "    <tr>\n",
              "      <th>1</th>\n",
              "      <td>1.0</td>\n",
              "      <td>0.026944</td>\n",
              "      <td>37.07</td>\n",
              "      <td>0.469</td>\n",
              "      <td>6.421</td>\n",
              "      <td>78.9</td>\n",
              "      <td>22.2</td>\n",
              "      <td>9.14</td>\n",
              "      <td>7.332</td>\n",
              "      <td>12.17280</td>\n",
              "      <td>42</td>\n",
              "      <td>4.9675</td>\n",
              "      <td>0</td>\n",
              "      <td>1</td>\n",
              "      <td>0</td>\n",
              "      <td>0</td>\n",
              "    </tr>\n",
              "    <tr>\n",
              "      <th>2</th>\n",
              "      <td>1.0</td>\n",
              "      <td>0.026924</td>\n",
              "      <td>37.07</td>\n",
              "      <td>0.469</td>\n",
              "      <td>7.185</td>\n",
              "      <td>61.1</td>\n",
              "      <td>22.2</td>\n",
              "      <td>4.03</td>\n",
              "      <td>7.394</td>\n",
              "      <td>46.19856</td>\n",
              "      <td>38</td>\n",
              "      <td>4.9675</td>\n",
              "      <td>0</td>\n",
              "      <td>0</td>\n",
              "      <td>0</td>\n",
              "      <td>0</td>\n",
              "    </tr>\n",
              "    <tr>\n",
              "      <th>3</th>\n",
              "      <td>1.0</td>\n",
              "      <td>0.031857</td>\n",
              "      <td>32.18</td>\n",
              "      <td>0.458</td>\n",
              "      <td>6.998</td>\n",
              "      <td>45.8</td>\n",
              "      <td>21.3</td>\n",
              "      <td>2.94</td>\n",
              "      <td>9.268</td>\n",
              "      <td>11.26720</td>\n",
              "      <td>45</td>\n",
              "      <td>6.0650</td>\n",
              "      <td>1</td>\n",
              "      <td>1</td>\n",
              "      <td>0</td>\n",
              "      <td>0</td>\n",
              "    </tr>\n",
              "    <tr>\n",
              "      <th>4</th>\n",
              "      <td>1.0</td>\n",
              "      <td>0.066770</td>\n",
              "      <td>32.18</td>\n",
              "      <td>0.458</td>\n",
              "      <td>7.147</td>\n",
              "      <td>54.2</td>\n",
              "      <td>21.3</td>\n",
              "      <td>5.33</td>\n",
              "      <td>8.824</td>\n",
              "      <td>11.28960</td>\n",
              "      <td>55</td>\n",
              "      <td>6.0625</td>\n",
              "      <td>0</td>\n",
              "      <td>1</td>\n",
              "      <td>0</td>\n",
              "      <td>0</td>\n",
              "    </tr>\n",
              "  </tbody>\n",
              "</table>\n",
              "</div>"
            ],
            "text/plain": [
              "   const  crime_rate  ...  waterbody_Lake and River  waterbody_River\n",
              "0    1.0    0.006300  ...                         0                1\n",
              "1    1.0    0.026944  ...                         0                0\n",
              "2    1.0    0.026924  ...                         0                0\n",
              "3    1.0    0.031857  ...                         0                0\n",
              "4    1.0    0.066770  ...                         0                0\n",
              "\n",
              "[5 rows x 16 columns]"
            ]
          },
          "metadata": {
            "tags": []
          },
          "execution_count": 65
        }
      ]
    },
    {
      "cell_type": "markdown",
      "metadata": {
        "id": "vaD5dE4jWS78",
        "colab_type": "text"
      },
      "source": [
        "*This const value is a kind of proxy for (beta)not*"
      ]
    },
    {
      "cell_type": "code",
      "metadata": {
        "id": "pENTd9rPWZ_b",
        "colab_type": "code",
        "colab": {}
      },
      "source": [
        "lm_multi=sn.OLS(Y_multi,X_multi_cons).fit()"
      ],
      "execution_count": 0,
      "outputs": []
    },
    {
      "cell_type": "code",
      "metadata": {
        "id": "iUW_Xo8DWncm",
        "colab_type": "code",
        "colab": {
          "base_uri": "https://localhost:8080/",
          "height": 739
        },
        "outputId": "aab2b831-ebe6-491b-9f3b-20878fe1f8d3"
      },
      "source": [
        "lm_multi.summary()"
      ],
      "execution_count": 68,
      "outputs": [
        {
          "output_type": "execute_result",
          "data": {
            "text/html": [
              "<table class=\"simpletable\">\n",
              "<caption>OLS Regression Results</caption>\n",
              "<tr>\n",
              "  <th>Dep. Variable:</th>          <td>price</td>      <th>  R-squared:         </th> <td>   0.721</td> \n",
              "</tr>\n",
              "<tr>\n",
              "  <th>Model:</th>                   <td>OLS</td>       <th>  Adj. R-squared:    </th> <td>   0.712</td> \n",
              "</tr>\n",
              "<tr>\n",
              "  <th>Method:</th>             <td>Least Squares</td>  <th>  F-statistic:       </th> <td>   84.34</td> \n",
              "</tr>\n",
              "<tr>\n",
              "  <th>Date:</th>             <td>Wed, 29 Apr 2020</td> <th>  Prob (F-statistic):</th> <td>4.19e-125</td>\n",
              "</tr>\n",
              "<tr>\n",
              "  <th>Time:</th>                 <td>05:13:38</td>     <th>  Log-Likelihood:    </th> <td> -1516.6</td> \n",
              "</tr>\n",
              "<tr>\n",
              "  <th>No. Observations:</th>      <td>   506</td>      <th>  AIC:               </th> <td>   3065.</td> \n",
              "</tr>\n",
              "<tr>\n",
              "  <th>Df Residuals:</th>          <td>   490</td>      <th>  BIC:               </th> <td>   3133.</td> \n",
              "</tr>\n",
              "<tr>\n",
              "  <th>Df Model:</th>              <td>    15</td>      <th>                     </th>     <td> </td>    \n",
              "</tr>\n",
              "<tr>\n",
              "  <th>Covariance Type:</th>      <td>nonrobust</td>    <th>                     </th>     <td> </td>    \n",
              "</tr>\n",
              "</table>\n",
              "<table class=\"simpletable\">\n",
              "<tr>\n",
              "              <td></td>                <th>coef</th>     <th>std err</th>      <th>t</th>      <th>P>|t|</th>  <th>[0.025</th>    <th>0.975]</th>  \n",
              "</tr>\n",
              "<tr>\n",
              "  <th>const</th>                    <td>   -6.4986</td> <td>    5.264</td> <td>   -1.235</td> <td> 0.218</td> <td>  -16.842</td> <td>    3.844</td>\n",
              "</tr>\n",
              "<tr>\n",
              "  <th>crime_rate</th>               <td>    0.0097</td> <td>    0.348</td> <td>    0.028</td> <td> 0.978</td> <td>   -0.674</td> <td>    0.694</td>\n",
              "</tr>\n",
              "<tr>\n",
              "  <th>resid_area</th>               <td>   -0.0409</td> <td>    0.058</td> <td>   -0.710</td> <td> 0.478</td> <td>   -0.154</td> <td>    0.072</td>\n",
              "</tr>\n",
              "<tr>\n",
              "  <th>air_qual</th>                 <td>  -15.8974</td> <td>    4.004</td> <td>   -3.971</td> <td> 0.000</td> <td>  -23.764</td> <td>   -8.031</td>\n",
              "</tr>\n",
              "<tr>\n",
              "  <th>room_num</th>                 <td>    4.0190</td> <td>    0.427</td> <td>    9.421</td> <td> 0.000</td> <td>    3.181</td> <td>    4.857</td>\n",
              "</tr>\n",
              "<tr>\n",
              "  <th>age</th>                      <td>   -0.0057</td> <td>    0.014</td> <td>   -0.420</td> <td> 0.675</td> <td>   -0.032</td> <td>    0.021</td>\n",
              "</tr>\n",
              "<tr>\n",
              "  <th>teachers</th>                 <td>    1.0070</td> <td>    0.122</td> <td>    8.247</td> <td> 0.000</td> <td>    0.767</td> <td>    1.247</td>\n",
              "</tr>\n",
              "<tr>\n",
              "  <th>poor_prop</th>                <td>   -0.5773</td> <td>    0.053</td> <td>  -10.955</td> <td> 0.000</td> <td>   -0.681</td> <td>   -0.474</td>\n",
              "</tr>\n",
              "<tr>\n",
              "  <th>n_hos_beds</th>               <td>    0.3292</td> <td>    0.152</td> <td>    2.163</td> <td> 0.031</td> <td>    0.030</td> <td>    0.628</td>\n",
              "</tr>\n",
              "<tr>\n",
              "  <th>n_hot_rooms</th>              <td>    0.0919</td> <td>    0.082</td> <td>    1.118</td> <td> 0.264</td> <td>   -0.070</td> <td>    0.253</td>\n",
              "</tr>\n",
              "<tr>\n",
              "  <th>rainfall</th>                 <td>    0.0161</td> <td>    0.018</td> <td>    0.904</td> <td> 0.367</td> <td>   -0.019</td> <td>    0.051</td>\n",
              "</tr>\n",
              "<tr>\n",
              "  <th>avg_dist</th>                 <td>   -1.2186</td> <td>    0.189</td> <td>   -6.450</td> <td> 0.000</td> <td>   -1.590</td> <td>   -0.847</td>\n",
              "</tr>\n",
              "<tr>\n",
              "  <th>airport_YES</th>              <td>    1.1315</td> <td>    0.454</td> <td>    2.491</td> <td> 0.013</td> <td>    0.239</td> <td>    2.024</td>\n",
              "</tr>\n",
              "<tr>\n",
              "  <th>waterbody_Lake</th>           <td>    0.2641</td> <td>    0.642</td> <td>    0.411</td> <td> 0.681</td> <td>   -0.997</td> <td>    1.525</td>\n",
              "</tr>\n",
              "<tr>\n",
              "  <th>waterbody_Lake and River</th> <td>   -0.6876</td> <td>    0.714</td> <td>   -0.963</td> <td> 0.336</td> <td>   -2.090</td> <td>    0.715</td>\n",
              "</tr>\n",
              "<tr>\n",
              "  <th>waterbody_River</th>          <td>   -0.2913</td> <td>    0.547</td> <td>   -0.533</td> <td> 0.594</td> <td>   -1.365</td> <td>    0.783</td>\n",
              "</tr>\n",
              "</table>\n",
              "<table class=\"simpletable\">\n",
              "<tr>\n",
              "  <th>Omnibus:</th>       <td>182.596</td> <th>  Durbin-Watson:     </th> <td>   0.990</td> \n",
              "</tr>\n",
              "<tr>\n",
              "  <th>Prob(Omnibus):</th> <td> 0.000</td>  <th>  Jarque-Bera (JB):  </th> <td> 826.137</td> \n",
              "</tr>\n",
              "<tr>\n",
              "  <th>Skew:</th>          <td> 1.554</td>  <th>  Prob(JB):          </th> <td>4.04e-180</td>\n",
              "</tr>\n",
              "<tr>\n",
              "  <th>Kurtosis:</th>      <td> 8.434</td>  <th>  Cond. No.          </th> <td>2.37e+03</td> \n",
              "</tr>\n",
              "</table><br/><br/>Warnings:<br/>[1] Standard Errors assume that the covariance matrix of the errors is correctly specified.<br/>[2] The condition number is large, 2.37e+03. This might indicate that there are<br/>strong multicollinearity or other numerical problems."
            ],
            "text/plain": [
              "<class 'statsmodels.iolib.summary.Summary'>\n",
              "\"\"\"\n",
              "                            OLS Regression Results                            \n",
              "==============================================================================\n",
              "Dep. Variable:                  price   R-squared:                       0.721\n",
              "Model:                            OLS   Adj. R-squared:                  0.712\n",
              "Method:                 Least Squares   F-statistic:                     84.34\n",
              "Date:                Wed, 29 Apr 2020   Prob (F-statistic):          4.19e-125\n",
              "Time:                        05:13:38   Log-Likelihood:                -1516.6\n",
              "No. Observations:                 506   AIC:                             3065.\n",
              "Df Residuals:                     490   BIC:                             3133.\n",
              "Df Model:                          15                                         \n",
              "Covariance Type:            nonrobust                                         \n",
              "============================================================================================\n",
              "                               coef    std err          t      P>|t|      [0.025      0.975]\n",
              "--------------------------------------------------------------------------------------------\n",
              "const                       -6.4986      5.264     -1.235      0.218     -16.842       3.844\n",
              "crime_rate                   0.0097      0.348      0.028      0.978      -0.674       0.694\n",
              "resid_area                  -0.0409      0.058     -0.710      0.478      -0.154       0.072\n",
              "air_qual                   -15.8974      4.004     -3.971      0.000     -23.764      -8.031\n",
              "room_num                     4.0190      0.427      9.421      0.000       3.181       4.857\n",
              "age                         -0.0057      0.014     -0.420      0.675      -0.032       0.021\n",
              "teachers                     1.0070      0.122      8.247      0.000       0.767       1.247\n",
              "poor_prop                   -0.5773      0.053    -10.955      0.000      -0.681      -0.474\n",
              "n_hos_beds                   0.3292      0.152      2.163      0.031       0.030       0.628\n",
              "n_hot_rooms                  0.0919      0.082      1.118      0.264      -0.070       0.253\n",
              "rainfall                     0.0161      0.018      0.904      0.367      -0.019       0.051\n",
              "avg_dist                    -1.2186      0.189     -6.450      0.000      -1.590      -0.847\n",
              "airport_YES                  1.1315      0.454      2.491      0.013       0.239       2.024\n",
              "waterbody_Lake               0.2641      0.642      0.411      0.681      -0.997       1.525\n",
              "waterbody_Lake and River    -0.6876      0.714     -0.963      0.336      -2.090       0.715\n",
              "waterbody_River             -0.2913      0.547     -0.533      0.594      -1.365       0.783\n",
              "==============================================================================\n",
              "Omnibus:                      182.596   Durbin-Watson:                   0.990\n",
              "Prob(Omnibus):                  0.000   Jarque-Bera (JB):              826.137\n",
              "Skew:                           1.554   Prob(JB):                    4.04e-180\n",
              "Kurtosis:                       8.434   Cond. No.                     2.37e+03\n",
              "==============================================================================\n",
              "\n",
              "Warnings:\n",
              "[1] Standard Errors assume that the covariance matrix of the errors is correctly specified.\n",
              "[2] The condition number is large, 2.37e+03. This might indicate that there are\n",
              "strong multicollinearity or other numerical problems.\n",
              "\"\"\""
            ]
          },
          "metadata": {
            "tags": []
          },
          "execution_count": 68
        }
      ]
    }
  ]
}