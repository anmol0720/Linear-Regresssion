{
  "nbformat": 4,
  "nbformat_minor": 0,
  "metadata": {
    "colab": {
      "name": "TensorFlow with GPU",
      "provenance": [],
      "collapsed_sections": [],
      "toc_visible": true,
      "include_colab_link": true
    },
    "kernelspec": {
      "display_name": "Python 3",
      "name": "python3"
    }
  },
  "cells": [
    {
      "cell_type": "markdown",
      "metadata": {
        "id": "view-in-github",
        "colab_type": "text"
      },
      "source": [
        "<a href=\"https://colab.research.google.com/github/anmol0720/Linear-Regresssion---Data-Preprocessing/blob/master/TensorFlow_with_GPU.ipynb\" target=\"_parent\"><img src=\"https://colab.research.google.com/assets/colab-badge.svg\" alt=\"Open In Colab\"/></a>"
      ]
    },
    {
      "cell_type": "markdown",
      "metadata": {
        "id": "VhmTmU3YyyPA",
        "colab_type": "text"
      },
      "source": [
        "# Data Importing and Preprocessing"
      ]
    },
    {
      "cell_type": "code",
      "metadata": {
        "id": "FWAa5_vevpcN",
        "colab_type": "code",
        "colab": {
          "base_uri": "https://localhost:8080/",
          "height": 72
        },
        "outputId": "566e5fcf-3ec9-4bdd-a0ca-9a15a4f1fd9f"
      },
      "source": [
        "import numpy as np\n",
        "import pandas as pd\n",
        "import seaborn as sns"
      ],
      "execution_count": 1,
      "outputs": [
        {
          "output_type": "stream",
          "text": [
            "/usr/local/lib/python3.6/dist-packages/statsmodels/tools/_testing.py:19: FutureWarning: pandas.util.testing is deprecated. Use the functions in the public API at pandas.testing instead.\n",
            "  import pandas.util.testing as tm\n"
          ],
          "name": "stderr"
        }
      ]
    },
    {
      "cell_type": "code",
      "metadata": {
        "id": "theJfEfcynb5",
        "colab_type": "code",
        "colab": {}
      },
      "source": [
        "df=pd.read_csv('House_Price.csv',header=0)"
      ],
      "execution_count": 0,
      "outputs": []
    },
    {
      "cell_type": "code",
      "metadata": {
        "id": "oxIg3TWrywRi",
        "colab_type": "code",
        "colab": {
          "base_uri": "https://localhost:8080/",
          "height": 215
        },
        "outputId": "31052716-1476-44e4-fd8b-e9f4ec463ed1"
      },
      "source": [
        "df.head()"
      ],
      "execution_count": 4,
      "outputs": [
        {
          "output_type": "execute_result",
          "data": {
            "text/html": [
              "<div>\n",
              "<style scoped>\n",
              "    .dataframe tbody tr th:only-of-type {\n",
              "        vertical-align: middle;\n",
              "    }\n",
              "\n",
              "    .dataframe tbody tr th {\n",
              "        vertical-align: top;\n",
              "    }\n",
              "\n",
              "    .dataframe thead th {\n",
              "        text-align: right;\n",
              "    }\n",
              "</style>\n",
              "<table border=\"1\" class=\"dataframe\">\n",
              "  <thead>\n",
              "    <tr style=\"text-align: right;\">\n",
              "      <th></th>\n",
              "      <th>price</th>\n",
              "      <th>crime_rate</th>\n",
              "      <th>resid_area</th>\n",
              "      <th>air_qual</th>\n",
              "      <th>room_num</th>\n",
              "      <th>age</th>\n",
              "      <th>dist1</th>\n",
              "      <th>dist2</th>\n",
              "      <th>dist3</th>\n",
              "      <th>dist4</th>\n",
              "      <th>teachers</th>\n",
              "      <th>poor_prop</th>\n",
              "      <th>airport</th>\n",
              "      <th>n_hos_beds</th>\n",
              "      <th>n_hot_rooms</th>\n",
              "      <th>waterbody</th>\n",
              "      <th>rainfall</th>\n",
              "      <th>bus_ter</th>\n",
              "      <th>parks</th>\n",
              "    </tr>\n",
              "  </thead>\n",
              "  <tbody>\n",
              "    <tr>\n",
              "      <th>0</th>\n",
              "      <td>24.0</td>\n",
              "      <td>0.00632</td>\n",
              "      <td>32.31</td>\n",
              "      <td>0.538</td>\n",
              "      <td>6.575</td>\n",
              "      <td>65.2</td>\n",
              "      <td>4.35</td>\n",
              "      <td>3.81</td>\n",
              "      <td>4.18</td>\n",
              "      <td>4.01</td>\n",
              "      <td>24.7</td>\n",
              "      <td>4.98</td>\n",
              "      <td>YES</td>\n",
              "      <td>5.480</td>\n",
              "      <td>11.1920</td>\n",
              "      <td>River</td>\n",
              "      <td>23</td>\n",
              "      <td>YES</td>\n",
              "      <td>0.049347</td>\n",
              "    </tr>\n",
              "    <tr>\n",
              "      <th>1</th>\n",
              "      <td>21.6</td>\n",
              "      <td>0.02731</td>\n",
              "      <td>37.07</td>\n",
              "      <td>0.469</td>\n",
              "      <td>6.421</td>\n",
              "      <td>78.9</td>\n",
              "      <td>4.99</td>\n",
              "      <td>4.70</td>\n",
              "      <td>5.12</td>\n",
              "      <td>5.06</td>\n",
              "      <td>22.2</td>\n",
              "      <td>9.14</td>\n",
              "      <td>NO</td>\n",
              "      <td>7.332</td>\n",
              "      <td>12.1728</td>\n",
              "      <td>Lake</td>\n",
              "      <td>42</td>\n",
              "      <td>YES</td>\n",
              "      <td>0.046146</td>\n",
              "    </tr>\n",
              "    <tr>\n",
              "      <th>2</th>\n",
              "      <td>34.7</td>\n",
              "      <td>0.02729</td>\n",
              "      <td>37.07</td>\n",
              "      <td>0.469</td>\n",
              "      <td>7.185</td>\n",
              "      <td>61.1</td>\n",
              "      <td>5.03</td>\n",
              "      <td>4.86</td>\n",
              "      <td>5.01</td>\n",
              "      <td>4.97</td>\n",
              "      <td>22.2</td>\n",
              "      <td>4.03</td>\n",
              "      <td>NO</td>\n",
              "      <td>7.394</td>\n",
              "      <td>101.1200</td>\n",
              "      <td>None</td>\n",
              "      <td>38</td>\n",
              "      <td>YES</td>\n",
              "      <td>0.045764</td>\n",
              "    </tr>\n",
              "    <tr>\n",
              "      <th>3</th>\n",
              "      <td>33.4</td>\n",
              "      <td>0.03237</td>\n",
              "      <td>32.18</td>\n",
              "      <td>0.458</td>\n",
              "      <td>6.998</td>\n",
              "      <td>45.8</td>\n",
              "      <td>6.21</td>\n",
              "      <td>5.93</td>\n",
              "      <td>6.16</td>\n",
              "      <td>5.96</td>\n",
              "      <td>21.3</td>\n",
              "      <td>2.94</td>\n",
              "      <td>YES</td>\n",
              "      <td>9.268</td>\n",
              "      <td>11.2672</td>\n",
              "      <td>Lake</td>\n",
              "      <td>45</td>\n",
              "      <td>YES</td>\n",
              "      <td>0.047151</td>\n",
              "    </tr>\n",
              "    <tr>\n",
              "      <th>4</th>\n",
              "      <td>36.2</td>\n",
              "      <td>0.06905</td>\n",
              "      <td>32.18</td>\n",
              "      <td>0.458</td>\n",
              "      <td>7.147</td>\n",
              "      <td>54.2</td>\n",
              "      <td>6.16</td>\n",
              "      <td>5.86</td>\n",
              "      <td>6.37</td>\n",
              "      <td>5.86</td>\n",
              "      <td>21.3</td>\n",
              "      <td>5.33</td>\n",
              "      <td>NO</td>\n",
              "      <td>8.824</td>\n",
              "      <td>11.2896</td>\n",
              "      <td>Lake</td>\n",
              "      <td>55</td>\n",
              "      <td>YES</td>\n",
              "      <td>0.039474</td>\n",
              "    </tr>\n",
              "  </tbody>\n",
              "</table>\n",
              "</div>"
            ],
            "text/plain": [
              "   price  crime_rate  resid_area  ...  rainfall  bus_ter     parks\n",
              "0   24.0     0.00632       32.31  ...        23      YES  0.049347\n",
              "1   21.6     0.02731       37.07  ...        42      YES  0.046146\n",
              "2   34.7     0.02729       37.07  ...        38      YES  0.045764\n",
              "3   33.4     0.03237       32.18  ...        45      YES  0.047151\n",
              "4   36.2     0.06905       32.18  ...        55      YES  0.039474\n",
              "\n",
              "[5 rows x 19 columns]"
            ]
          },
          "metadata": {
            "tags": []
          },
          "execution_count": 4
        }
      ]
    },
    {
      "cell_type": "code",
      "metadata": {
        "id": "9lT1OlmozIMk",
        "colab_type": "code",
        "colab": {
          "base_uri": "https://localhost:8080/",
          "height": 34
        },
        "outputId": "fee1a85f-f2f8-440f-efeb-bae831b768a8"
      },
      "source": [
        "df.shape"
      ],
      "execution_count": 5,
      "outputs": [
        {
          "output_type": "execute_result",
          "data": {
            "text/plain": [
              "(506, 19)"
            ]
          },
          "metadata": {
            "tags": []
          },
          "execution_count": 5
        }
      ]
    }
  ]
}